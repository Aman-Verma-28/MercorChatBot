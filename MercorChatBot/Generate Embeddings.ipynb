{
 "cells": [
  {
   "cell_type": "code",
   "id": "initial_id",
   "metadata": {
    "collapsed": true,
    "ExecuteTime": {
     "end_time": "2024-08-07T12:02:06.159480Z",
     "start_time": "2024-08-07T12:02:06.151108Z"
    }
   },
   "source": [
    "import os\n",
    "from dotenv import load_dotenv\n",
    "\n",
    "load_dotenv()"
   ],
   "outputs": [
    {
     "data": {
      "text/plain": [
       "True"
      ]
     },
     "execution_count": 39,
     "metadata": {},
     "output_type": "execute_result"
    }
   ],
   "execution_count": 39
  },
  {
   "cell_type": "code",
   "id": "11bd501b03c139ee",
   "metadata": {
    "ExecuteTime": {
     "end_time": "2024-08-07T11:44:28.220379Z",
     "start_time": "2024-08-07T11:44:28.216777Z"
    }
   },
   "source": [
    "import pinecone\n",
    "import openai\n",
    "import mysql.connector\n",
    "import json"
   ],
   "outputs": [],
   "execution_count": 21
  },
  {
   "cell_type": "code",
   "id": "4093ea14e615a35a",
   "metadata": {
    "ExecuteTime": {
     "end_time": "2024-08-07T11:44:30.110328Z",
     "start_time": "2024-08-07T11:44:30.086035Z"
    }
   },
   "source": [
    "mysql_config = {\n",
    "    'user': os.environ.get('DB_USER'),\n",
    "    'password': os.environ.get('DB_PASSWORD'),\n",
    "    'host': os.environ.get('DB_HOST'),\n",
    "    'database': os.environ.get('DB_NAME')\n",
    "}\n",
    "\n",
    "conn = mysql.connector.connect(**mysql_config)\n",
    "cursor = conn.cursor()\n",
    "\n",
    "query = \"\"\"\n",
    "    SELECT * FROM `MercorUserProfile`\n",
    "\"\"\"\n",
    "cursor.execute(query)\n",
    "\n",
    "# Fetch all results\n",
    "results = cursor.fetchall()\n",
    "\n",
    "# Close MySQL connection\n",
    "cursor.close()\n",
    "conn.close()"
   ],
   "outputs": [],
   "execution_count": 22
  },
  {
   "metadata": {
    "ExecuteTime": {
     "end_time": "2024-08-07T13:19:43.916804Z",
     "start_time": "2024-08-07T13:17:55.969022Z"
    }
   },
   "cell_type": "code",
   "source": [
    "from pinecone import Pinecone\n",
    "from tqdm import tqdm\n",
    "\n",
    "from langchain.embeddings.openai import OpenAIEmbeddings\n",
    "\n",
    "openai_api_key = os.environ.get('OPENAI_API_KEY') or 'OPENAI_API_KEY'\n",
    "model_name = 'text-embedding-ada-002'\n",
    "\n",
    "embed = OpenAIEmbeddings(\n",
    "    model=model_name,\n",
    "    openai_api_key=openai_api_key\n",
    ")\n",
    "\n",
    "api_key = os.environ.get(\"PINECONE_API_KEY\")\n",
    "pc = Pinecone(api_key=api_key)\n",
    "INDEX_NAME = \"mercor-user-profiles\"\n",
    "\n",
    "index = pc.Index(INDEX_NAME)\n",
    "\n",
    "dataset = []\n",
    "\n",
    "def return_as_dict(result):\n",
    "    return {\n",
    "        \"id\": result[0],\n",
    "        \"metadata\": {\n",
    "            \"userId\": result[0],\n",
    "            \"name\": result[1],\n",
    "            \"email\": result[2],\n",
    "            \"phone\": result[3],\n",
    "            \"fullTimeSalary\": result[4],\n",
    "            \"partTimeSalary\": result[5],\n",
    "            \"workExperience\": result[6],\n",
    "            \"education\": result[7],\n",
    "            \"skills\": result[8],\n",
    "        },\n",
    "        \"values\": result[9],\n",
    "    }\n",
    "    \n",
    "for result in tqdm(results[5:]):\n",
    "    result = list(result)\n",
    "    result.append(embed.embed_query(\n",
    "        \"Skills: \" + result[8] + \" Education: \" + result[7] + \" Work Experience: \" + result[6] + \" Full Time Salary: \" + str(result[4]) + \" Part Time Salary: \" + str(result[5])\n",
    "    ))\n",
    "    dataset.append(return_as_dict(result))\n",
    "    \n",
    "    \n",
    "    \n",
    "import pandas as pd\n",
    "df = pd.DataFrame(dataset)\n",
    "df.head()"
   ],
   "id": "2c3e90204b3ad039",
   "outputs": [
    {
     "name": "stderr",
     "output_type": "stream",
     "text": [
      "100%|██████████| 195/195 [01:47<00:00,  1.81it/s]\n"
     ]
    },
    {
     "data": {
      "text/plain": [
       "                                     id  \\\n",
       "0  001575b9-6ec3-11ee-8bff-42010a400007   \n",
       "1  00158a5b-6eb5-11ee-8bff-42010a400007   \n",
       "2  001c5b6a-6ea4-11ee-8bff-42010a400007   \n",
       "3  001fc599-6ec1-11ee-8bff-42010a400007   \n",
       "4  002177c9-6ea9-11ee-8bff-42010a400007   \n",
       "\n",
       "                                            metadata  \\\n",
       "0  {'userId': '001575b9-6ec3-11ee-8bff-42010a4000...   \n",
       "1  {'userId': '00158a5b-6eb5-11ee-8bff-42010a4000...   \n",
       "2  {'userId': '001c5b6a-6ea4-11ee-8bff-42010a4000...   \n",
       "3  {'userId': '001fc599-6ec1-11ee-8bff-42010a4000...   \n",
       "4  {'userId': '002177c9-6ea9-11ee-8bff-42010a4000...   \n",
       "\n",
       "                                              values  \n",
       "0  [0.015586048309392938, -0.002184512085919989, ...  \n",
       "1  [0.018540523346221686, 0.008370301415322731, 0...  \n",
       "2  [0.004046677004481127, -0.0029472607553426636,...  \n",
       "3  [0.014763144913046677, 0.0009588470050068443, ...  \n",
       "4  [0.009064803099095329, -0.0017160296351446354,...  "
      ],
      "text/html": [
       "<div>\n",
       "<style scoped>\n",
       "    .dataframe tbody tr th:only-of-type {\n",
       "        vertical-align: middle;\n",
       "    }\n",
       "\n",
       "    .dataframe tbody tr th {\n",
       "        vertical-align: top;\n",
       "    }\n",
       "\n",
       "    .dataframe thead th {\n",
       "        text-align: right;\n",
       "    }\n",
       "</style>\n",
       "<table border=\"1\" class=\"dataframe\">\n",
       "  <thead>\n",
       "    <tr style=\"text-align: right;\">\n",
       "      <th></th>\n",
       "      <th>id</th>\n",
       "      <th>metadata</th>\n",
       "      <th>values</th>\n",
       "    </tr>\n",
       "  </thead>\n",
       "  <tbody>\n",
       "    <tr>\n",
       "      <th>0</th>\n",
       "      <td>001575b9-6ec3-11ee-8bff-42010a400007</td>\n",
       "      <td>{'userId': '001575b9-6ec3-11ee-8bff-42010a4000...</td>\n",
       "      <td>[0.015586048309392938, -0.002184512085919989, ...</td>\n",
       "    </tr>\n",
       "    <tr>\n",
       "      <th>1</th>\n",
       "      <td>00158a5b-6eb5-11ee-8bff-42010a400007</td>\n",
       "      <td>{'userId': '00158a5b-6eb5-11ee-8bff-42010a4000...</td>\n",
       "      <td>[0.018540523346221686, 0.008370301415322731, 0...</td>\n",
       "    </tr>\n",
       "    <tr>\n",
       "      <th>2</th>\n",
       "      <td>001c5b6a-6ea4-11ee-8bff-42010a400007</td>\n",
       "      <td>{'userId': '001c5b6a-6ea4-11ee-8bff-42010a4000...</td>\n",
       "      <td>[0.004046677004481127, -0.0029472607553426636,...</td>\n",
       "    </tr>\n",
       "    <tr>\n",
       "      <th>3</th>\n",
       "      <td>001fc599-6ec1-11ee-8bff-42010a400007</td>\n",
       "      <td>{'userId': '001fc599-6ec1-11ee-8bff-42010a4000...</td>\n",
       "      <td>[0.014763144913046677, 0.0009588470050068443, ...</td>\n",
       "    </tr>\n",
       "    <tr>\n",
       "      <th>4</th>\n",
       "      <td>002177c9-6ea9-11ee-8bff-42010a400007</td>\n",
       "      <td>{'userId': '002177c9-6ea9-11ee-8bff-42010a4000...</td>\n",
       "      <td>[0.009064803099095329, -0.0017160296351446354,...</td>\n",
       "    </tr>\n",
       "  </tbody>\n",
       "</table>\n",
       "</div>"
      ]
     },
     "execution_count": 84,
     "metadata": {},
     "output_type": "execute_result"
    }
   ],
   "execution_count": 84
  },
  {
   "metadata": {
    "ExecuteTime": {
     "end_time": "2024-08-07T13:30:54.545953Z",
     "start_time": "2024-08-07T13:30:48.076294Z"
    }
   },
   "cell_type": "code",
   "source": [
    "# UPSERT THE INDEX\n",
    "index.upsert_from_dataframe(df, batch_size=1)"
   ],
   "id": "37f74db0f58be2a1",
   "outputs": [
    {
     "data": {
      "text/plain": [
       "sending upsert requests:   0%|          | 0/20 [00:00<?, ?it/s]"
      ],
      "application/vnd.jupyter.widget-view+json": {
       "version_major": 2,
       "version_minor": 0,
       "model_id": "00f31ca441dc452aaec81b3a95c0496b"
      }
     },
     "metadata": {},
     "output_type": "display_data"
    },
    {
     "ename": "PineconeApiException",
     "evalue": "(400)\nReason: Bad Request\nHTTP response headers: HTTPHeaderDict({'Date': 'Wed, 07 Aug 2024 13:30:54 GMT', 'Content-Type': 'application/json', 'Content-Length': '115', 'Connection': 'keep-alive', 'x-pinecone-request-latency-ms': '4', 'x-pinecone-request-id': '2503468890380648804', 'x-envoy-upstream-service-time': '2', 'server': 'envoy'})\nHTTP response body: {\"code\":3,\"message\":\"Metadata size is 45131 bytes, which exceeds the limit of 40960 bytes per vector\",\"details\":[]}\n",
     "output_type": "error",
     "traceback": [
      "\u001B[0;31m---------------------------------------------------------------------------\u001B[0m",
      "\u001B[0;31mPineconeApiException\u001B[0m                      Traceback (most recent call last)",
      "Cell \u001B[0;32mIn[103], line 2\u001B[0m\n\u001B[1;32m      1\u001B[0m df \u001B[38;5;241m=\u001B[39m pd\u001B[38;5;241m.\u001B[39mDataFrame(dataset[\u001B[38;5;241m154\u001B[39m:\u001B[38;5;241m174\u001B[39m])\n\u001B[0;32m----> 2\u001B[0m \u001B[43mindex\u001B[49m\u001B[38;5;241;43m.\u001B[39;49m\u001B[43mupsert_from_dataframe\u001B[49m\u001B[43m(\u001B[49m\u001B[43mdf\u001B[49m\u001B[43m,\u001B[49m\u001B[43m \u001B[49m\u001B[43mbatch_size\u001B[49m\u001B[38;5;241;43m=\u001B[39;49m\u001B[38;5;241;43m1\u001B[39;49m\u001B[43m)\u001B[49m\n",
      "File \u001B[0;32m~/Desktop/Mercor/dev/env/lib/python3.10/site-packages/pinecone/data/index.py:252\u001B[0m, in \u001B[0;36mIndex.upsert_from_dataframe\u001B[0;34m(self, df, namespace, batch_size, show_progress)\u001B[0m\n\u001B[1;32m    250\u001B[0m results \u001B[38;5;241m=\u001B[39m []\n\u001B[1;32m    251\u001B[0m \u001B[38;5;28;01mfor\u001B[39;00m chunk \u001B[38;5;129;01min\u001B[39;00m \u001B[38;5;28mself\u001B[39m\u001B[38;5;241m.\u001B[39m_iter_dataframe(df, batch_size\u001B[38;5;241m=\u001B[39mbatch_size):\n\u001B[0;32m--> 252\u001B[0m     res \u001B[38;5;241m=\u001B[39m \u001B[38;5;28;43mself\u001B[39;49m\u001B[38;5;241;43m.\u001B[39;49m\u001B[43mupsert\u001B[49m\u001B[43m(\u001B[49m\u001B[43mvectors\u001B[49m\u001B[38;5;241;43m=\u001B[39;49m\u001B[43mchunk\u001B[49m\u001B[43m,\u001B[49m\u001B[43m \u001B[49m\u001B[43mnamespace\u001B[49m\u001B[38;5;241;43m=\u001B[39;49m\u001B[43mnamespace\u001B[49m\u001B[43m)\u001B[49m\n\u001B[1;32m    253\u001B[0m     pbar\u001B[38;5;241m.\u001B[39mupdate(\u001B[38;5;28mlen\u001B[39m(chunk))\n\u001B[1;32m    254\u001B[0m     results\u001B[38;5;241m.\u001B[39mappend(res)\n",
      "File \u001B[0;32m~/Desktop/Mercor/dev/env/lib/python3.10/site-packages/pinecone/utils/error_handling.py:11\u001B[0m, in \u001B[0;36mvalidate_and_convert_errors.<locals>.inner_func\u001B[0;34m(*args, **kwargs)\u001B[0m\n\u001B[1;32m      8\u001B[0m \u001B[38;5;129m@wraps\u001B[39m(func)\n\u001B[1;32m      9\u001B[0m \u001B[38;5;28;01mdef\u001B[39;00m \u001B[38;5;21minner_func\u001B[39m(\u001B[38;5;241m*\u001B[39margs, \u001B[38;5;241m*\u001B[39m\u001B[38;5;241m*\u001B[39mkwargs):\n\u001B[1;32m     10\u001B[0m     \u001B[38;5;28;01mtry\u001B[39;00m:\n\u001B[0;32m---> 11\u001B[0m         \u001B[38;5;28;01mreturn\u001B[39;00m \u001B[43mfunc\u001B[49m\u001B[43m(\u001B[49m\u001B[38;5;241;43m*\u001B[39;49m\u001B[43margs\u001B[49m\u001B[43m,\u001B[49m\u001B[43m \u001B[49m\u001B[38;5;241;43m*\u001B[39;49m\u001B[38;5;241;43m*\u001B[39;49m\u001B[43mkwargs\u001B[49m\u001B[43m)\u001B[49m\n\u001B[1;32m     12\u001B[0m     \u001B[38;5;28;01mexcept\u001B[39;00m MaxRetryError \u001B[38;5;28;01mas\u001B[39;00m e:\n\u001B[1;32m     13\u001B[0m         \u001B[38;5;28;01mif\u001B[39;00m \u001B[38;5;28misinstance\u001B[39m(e\u001B[38;5;241m.\u001B[39mreason, ProtocolError):\n",
      "File \u001B[0;32m~/Desktop/Mercor/dev/env/lib/python3.10/site-packages/pinecone/data/index.py:175\u001B[0m, in \u001B[0;36mIndex.upsert\u001B[0;34m(self, vectors, namespace, batch_size, show_progress, **kwargs)\u001B[0m\n\u001B[1;32m    168\u001B[0m     \u001B[38;5;28;01mraise\u001B[39;00m \u001B[38;5;167;01mValueError\u001B[39;00m(\n\u001B[1;32m    169\u001B[0m         \u001B[38;5;124m\"\u001B[39m\u001B[38;5;124masync_req is not supported when batch_size is provided.\u001B[39m\u001B[38;5;124m\"\u001B[39m\n\u001B[1;32m    170\u001B[0m         \u001B[38;5;124m\"\u001B[39m\u001B[38;5;124mTo upsert in parallel, please follow: \u001B[39m\u001B[38;5;124m\"\u001B[39m\n\u001B[1;32m    171\u001B[0m         \u001B[38;5;124m\"\u001B[39m\u001B[38;5;124mhttps://docs.pinecone.io/docs/insert-data#sending-upserts-in-parallel\u001B[39m\u001B[38;5;124m\"\u001B[39m\n\u001B[1;32m    172\u001B[0m     )\n\u001B[1;32m    174\u001B[0m \u001B[38;5;28;01mif\u001B[39;00m batch_size \u001B[38;5;129;01mis\u001B[39;00m \u001B[38;5;28;01mNone\u001B[39;00m:\n\u001B[0;32m--> 175\u001B[0m     \u001B[38;5;28;01mreturn\u001B[39;00m \u001B[38;5;28;43mself\u001B[39;49m\u001B[38;5;241;43m.\u001B[39;49m\u001B[43m_upsert_batch\u001B[49m\u001B[43m(\u001B[49m\u001B[43mvectors\u001B[49m\u001B[43m,\u001B[49m\u001B[43m \u001B[49m\u001B[43mnamespace\u001B[49m\u001B[43m,\u001B[49m\u001B[43m \u001B[49m\u001B[43m_check_type\u001B[49m\u001B[43m,\u001B[49m\u001B[43m \u001B[49m\u001B[38;5;241;43m*\u001B[39;49m\u001B[38;5;241;43m*\u001B[39;49m\u001B[43mkwargs\u001B[49m\u001B[43m)\u001B[49m\n\u001B[1;32m    177\u001B[0m \u001B[38;5;28;01mif\u001B[39;00m \u001B[38;5;129;01mnot\u001B[39;00m \u001B[38;5;28misinstance\u001B[39m(batch_size, \u001B[38;5;28mint\u001B[39m) \u001B[38;5;129;01mor\u001B[39;00m batch_size \u001B[38;5;241m<\u001B[39m\u001B[38;5;241m=\u001B[39m \u001B[38;5;241m0\u001B[39m:\n\u001B[1;32m    178\u001B[0m     \u001B[38;5;28;01mraise\u001B[39;00m \u001B[38;5;167;01mValueError\u001B[39;00m(\u001B[38;5;124m\"\u001B[39m\u001B[38;5;124mbatch_size must be a positive integer\u001B[39m\u001B[38;5;124m\"\u001B[39m)\n",
      "File \u001B[0;32m~/Desktop/Mercor/dev/env/lib/python3.10/site-packages/pinecone/data/index.py:204\u001B[0m, in \u001B[0;36mIndex._upsert_batch\u001B[0;34m(self, vectors, namespace, _check_type, **kwargs)\u001B[0m\n\u001B[1;32m    201\u001B[0m args_dict \u001B[38;5;241m=\u001B[39m \u001B[38;5;28mself\u001B[39m\u001B[38;5;241m.\u001B[39m_parse_non_empty_args([(\u001B[38;5;124m\"\u001B[39m\u001B[38;5;124mnamespace\u001B[39m\u001B[38;5;124m\"\u001B[39m, namespace)])\n\u001B[1;32m    202\u001B[0m vec_builder \u001B[38;5;241m=\u001B[39m \u001B[38;5;28;01mlambda\u001B[39;00m v: VectorFactory\u001B[38;5;241m.\u001B[39mbuild(v, check_type\u001B[38;5;241m=\u001B[39m_check_type)\n\u001B[0;32m--> 204\u001B[0m \u001B[38;5;28;01mreturn\u001B[39;00m \u001B[38;5;28;43mself\u001B[39;49m\u001B[38;5;241;43m.\u001B[39;49m\u001B[43m_vector_api\u001B[49m\u001B[38;5;241;43m.\u001B[39;49m\u001B[43mupsert\u001B[49m\u001B[43m(\u001B[49m\n\u001B[1;32m    205\u001B[0m \u001B[43m    \u001B[49m\u001B[43mUpsertRequest\u001B[49m\u001B[43m(\u001B[49m\n\u001B[1;32m    206\u001B[0m \u001B[43m        \u001B[49m\u001B[43mvectors\u001B[49m\u001B[38;5;241;43m=\u001B[39;49m\u001B[38;5;28;43mlist\u001B[39;49m\u001B[43m(\u001B[49m\u001B[38;5;28;43mmap\u001B[39;49m\u001B[43m(\u001B[49m\u001B[43mvec_builder\u001B[49m\u001B[43m,\u001B[49m\u001B[43m \u001B[49m\u001B[43mvectors\u001B[49m\u001B[43m)\u001B[49m\u001B[43m)\u001B[49m\u001B[43m,\u001B[49m\n\u001B[1;32m    207\u001B[0m \u001B[43m        \u001B[49m\u001B[38;5;241;43m*\u001B[39;49m\u001B[38;5;241;43m*\u001B[39;49m\u001B[43margs_dict\u001B[49m\u001B[43m,\u001B[49m\n\u001B[1;32m    208\u001B[0m \u001B[43m        \u001B[49m\u001B[43m_check_type\u001B[49m\u001B[38;5;241;43m=\u001B[39;49m\u001B[43m_check_type\u001B[49m\u001B[43m,\u001B[49m\n\u001B[1;32m    209\u001B[0m \u001B[43m        \u001B[49m\u001B[38;5;241;43m*\u001B[39;49m\u001B[38;5;241;43m*\u001B[39;49m\u001B[43m{\u001B[49m\u001B[43mk\u001B[49m\u001B[43m:\u001B[49m\u001B[43m \u001B[49m\u001B[43mv\u001B[49m\u001B[43m \u001B[49m\u001B[38;5;28;43;01mfor\u001B[39;49;00m\u001B[43m \u001B[49m\u001B[43mk\u001B[49m\u001B[43m,\u001B[49m\u001B[43m \u001B[49m\u001B[43mv\u001B[49m\u001B[43m \u001B[49m\u001B[38;5;129;43;01min\u001B[39;49;00m\u001B[43m \u001B[49m\u001B[43mkwargs\u001B[49m\u001B[38;5;241;43m.\u001B[39;49m\u001B[43mitems\u001B[49m\u001B[43m(\u001B[49m\u001B[43m)\u001B[49m\u001B[43m \u001B[49m\u001B[38;5;28;43;01mif\u001B[39;49;00m\u001B[43m \u001B[49m\u001B[43mk\u001B[49m\u001B[43m \u001B[49m\u001B[38;5;129;43;01mnot\u001B[39;49;00m\u001B[43m \u001B[49m\u001B[38;5;129;43;01min\u001B[39;49;00m\u001B[43m \u001B[49m\u001B[43m_OPENAPI_ENDPOINT_PARAMS\u001B[49m\u001B[43m}\u001B[49m\u001B[43m,\u001B[49m\n\u001B[1;32m    210\u001B[0m \u001B[43m    \u001B[49m\u001B[43m)\u001B[49m\u001B[43m,\u001B[49m\n\u001B[1;32m    211\u001B[0m \u001B[43m    \u001B[49m\u001B[38;5;241;43m*\u001B[39;49m\u001B[38;5;241;43m*\u001B[39;49m\u001B[43m{\u001B[49m\u001B[43mk\u001B[49m\u001B[43m:\u001B[49m\u001B[43m \u001B[49m\u001B[43mv\u001B[49m\u001B[43m \u001B[49m\u001B[38;5;28;43;01mfor\u001B[39;49;00m\u001B[43m \u001B[49m\u001B[43mk\u001B[49m\u001B[43m,\u001B[49m\u001B[43m \u001B[49m\u001B[43mv\u001B[49m\u001B[43m \u001B[49m\u001B[38;5;129;43;01min\u001B[39;49;00m\u001B[43m \u001B[49m\u001B[43mkwargs\u001B[49m\u001B[38;5;241;43m.\u001B[39;49m\u001B[43mitems\u001B[49m\u001B[43m(\u001B[49m\u001B[43m)\u001B[49m\u001B[43m \u001B[49m\u001B[38;5;28;43;01mif\u001B[39;49;00m\u001B[43m \u001B[49m\u001B[43mk\u001B[49m\u001B[43m \u001B[49m\u001B[38;5;129;43;01min\u001B[39;49;00m\u001B[43m \u001B[49m\u001B[43m_OPENAPI_ENDPOINT_PARAMS\u001B[49m\u001B[43m}\u001B[49m\u001B[43m,\u001B[49m\n\u001B[1;32m    212\u001B[0m \u001B[43m\u001B[49m\u001B[43m)\u001B[49m\n",
      "File \u001B[0;32m~/Desktop/Mercor/dev/env/lib/python3.10/site-packages/pinecone/core/openapi/shared/api_client.py:761\u001B[0m, in \u001B[0;36mEndpoint.__call__\u001B[0;34m(self, *args, **kwargs)\u001B[0m\n\u001B[1;32m    750\u001B[0m \u001B[38;5;28;01mdef\u001B[39;00m \u001B[38;5;21m__call__\u001B[39m(\u001B[38;5;28mself\u001B[39m, \u001B[38;5;241m*\u001B[39margs, \u001B[38;5;241m*\u001B[39m\u001B[38;5;241m*\u001B[39mkwargs):\n\u001B[1;32m    751\u001B[0m \u001B[38;5;250m    \u001B[39m\u001B[38;5;124;03m\"\"\"This method is invoked when endpoints are called\u001B[39;00m\n\u001B[1;32m    752\u001B[0m \u001B[38;5;124;03m    Example:\u001B[39;00m\n\u001B[1;32m    753\u001B[0m \n\u001B[0;32m   (...)\u001B[0m\n\u001B[1;32m    759\u001B[0m \n\u001B[1;32m    760\u001B[0m \u001B[38;5;124;03m    \"\"\"\u001B[39;00m\n\u001B[0;32m--> 761\u001B[0m     \u001B[38;5;28;01mreturn\u001B[39;00m \u001B[38;5;28;43mself\u001B[39;49m\u001B[38;5;241;43m.\u001B[39;49m\u001B[43mcallable\u001B[49m\u001B[43m(\u001B[49m\u001B[38;5;28;43mself\u001B[39;49m\u001B[43m,\u001B[49m\u001B[43m \u001B[49m\u001B[38;5;241;43m*\u001B[39;49m\u001B[43margs\u001B[49m\u001B[43m,\u001B[49m\u001B[43m \u001B[49m\u001B[38;5;241;43m*\u001B[39;49m\u001B[38;5;241;43m*\u001B[39;49m\u001B[43mkwargs\u001B[49m\u001B[43m)\u001B[49m\n",
      "File \u001B[0;32m~/Desktop/Mercor/dev/env/lib/python3.10/site-packages/pinecone/core/openapi/data/api/data_plane_api.py:811\u001B[0m, in \u001B[0;36mDataPlaneApi.__init__.<locals>.__upsert\u001B[0;34m(self, upsert_request, **kwargs)\u001B[0m\n\u001B[1;32m    809\u001B[0m kwargs[\u001B[38;5;124m\"\u001B[39m\u001B[38;5;124m_host_index\u001B[39m\u001B[38;5;124m\"\u001B[39m] \u001B[38;5;241m=\u001B[39m kwargs\u001B[38;5;241m.\u001B[39mget(\u001B[38;5;124m\"\u001B[39m\u001B[38;5;124m_host_index\u001B[39m\u001B[38;5;124m\"\u001B[39m)\n\u001B[1;32m    810\u001B[0m kwargs[\u001B[38;5;124m\"\u001B[39m\u001B[38;5;124mupsert_request\u001B[39m\u001B[38;5;124m\"\u001B[39m] \u001B[38;5;241m=\u001B[39m upsert_request\n\u001B[0;32m--> 811\u001B[0m \u001B[38;5;28;01mreturn\u001B[39;00m \u001B[38;5;28;43mself\u001B[39;49m\u001B[38;5;241;43m.\u001B[39;49m\u001B[43mcall_with_http_info\u001B[49m\u001B[43m(\u001B[49m\u001B[38;5;241;43m*\u001B[39;49m\u001B[38;5;241;43m*\u001B[39;49m\u001B[43mkwargs\u001B[49m\u001B[43m)\u001B[49m\n",
      "File \u001B[0;32m~/Desktop/Mercor/dev/env/lib/python3.10/site-packages/pinecone/core/openapi/shared/api_client.py:819\u001B[0m, in \u001B[0;36mEndpoint.call_with_http_info\u001B[0;34m(self, **kwargs)\u001B[0m\n\u001B[1;32m    816\u001B[0m     header_list \u001B[38;5;241m=\u001B[39m \u001B[38;5;28mself\u001B[39m\u001B[38;5;241m.\u001B[39mapi_client\u001B[38;5;241m.\u001B[39mselect_header_content_type(content_type_headers_list)\n\u001B[1;32m    817\u001B[0m     params[\u001B[38;5;124m\"\u001B[39m\u001B[38;5;124mheader\u001B[39m\u001B[38;5;124m\"\u001B[39m][\u001B[38;5;124m\"\u001B[39m\u001B[38;5;124mContent-Type\u001B[39m\u001B[38;5;124m\"\u001B[39m] \u001B[38;5;241m=\u001B[39m header_list\n\u001B[0;32m--> 819\u001B[0m \u001B[38;5;28;01mreturn\u001B[39;00m \u001B[38;5;28;43mself\u001B[39;49m\u001B[38;5;241;43m.\u001B[39;49m\u001B[43mapi_client\u001B[49m\u001B[38;5;241;43m.\u001B[39;49m\u001B[43mcall_api\u001B[49m\u001B[43m(\u001B[49m\n\u001B[1;32m    820\u001B[0m \u001B[43m    \u001B[49m\u001B[38;5;28;43mself\u001B[39;49m\u001B[38;5;241;43m.\u001B[39;49m\u001B[43msettings\u001B[49m\u001B[43m[\u001B[49m\u001B[38;5;124;43m\"\u001B[39;49m\u001B[38;5;124;43mendpoint_path\u001B[39;49m\u001B[38;5;124;43m\"\u001B[39;49m\u001B[43m]\u001B[49m\u001B[43m,\u001B[49m\n\u001B[1;32m    821\u001B[0m \u001B[43m    \u001B[49m\u001B[38;5;28;43mself\u001B[39;49m\u001B[38;5;241;43m.\u001B[39;49m\u001B[43msettings\u001B[49m\u001B[43m[\u001B[49m\u001B[38;5;124;43m\"\u001B[39;49m\u001B[38;5;124;43mhttp_method\u001B[39;49m\u001B[38;5;124;43m\"\u001B[39;49m\u001B[43m]\u001B[49m\u001B[43m,\u001B[49m\n\u001B[1;32m    822\u001B[0m \u001B[43m    \u001B[49m\u001B[43mparams\u001B[49m\u001B[43m[\u001B[49m\u001B[38;5;124;43m\"\u001B[39;49m\u001B[38;5;124;43mpath\u001B[39;49m\u001B[38;5;124;43m\"\u001B[39;49m\u001B[43m]\u001B[49m\u001B[43m,\u001B[49m\n\u001B[1;32m    823\u001B[0m \u001B[43m    \u001B[49m\u001B[43mparams\u001B[49m\u001B[43m[\u001B[49m\u001B[38;5;124;43m\"\u001B[39;49m\u001B[38;5;124;43mquery\u001B[39;49m\u001B[38;5;124;43m\"\u001B[39;49m\u001B[43m]\u001B[49m\u001B[43m,\u001B[49m\n\u001B[1;32m    824\u001B[0m \u001B[43m    \u001B[49m\u001B[43mparams\u001B[49m\u001B[43m[\u001B[49m\u001B[38;5;124;43m\"\u001B[39;49m\u001B[38;5;124;43mheader\u001B[39;49m\u001B[38;5;124;43m\"\u001B[39;49m\u001B[43m]\u001B[49m\u001B[43m,\u001B[49m\n\u001B[1;32m    825\u001B[0m \u001B[43m    \u001B[49m\u001B[43mbody\u001B[49m\u001B[38;5;241;43m=\u001B[39;49m\u001B[43mparams\u001B[49m\u001B[43m[\u001B[49m\u001B[38;5;124;43m\"\u001B[39;49m\u001B[38;5;124;43mbody\u001B[39;49m\u001B[38;5;124;43m\"\u001B[39;49m\u001B[43m]\u001B[49m\u001B[43m,\u001B[49m\n\u001B[1;32m    826\u001B[0m \u001B[43m    \u001B[49m\u001B[43mpost_params\u001B[49m\u001B[38;5;241;43m=\u001B[39;49m\u001B[43mparams\u001B[49m\u001B[43m[\u001B[49m\u001B[38;5;124;43m\"\u001B[39;49m\u001B[38;5;124;43mform\u001B[39;49m\u001B[38;5;124;43m\"\u001B[39;49m\u001B[43m]\u001B[49m\u001B[43m,\u001B[49m\n\u001B[1;32m    827\u001B[0m \u001B[43m    \u001B[49m\u001B[43mfiles\u001B[49m\u001B[38;5;241;43m=\u001B[39;49m\u001B[43mparams\u001B[49m\u001B[43m[\u001B[49m\u001B[38;5;124;43m\"\u001B[39;49m\u001B[38;5;124;43mfile\u001B[39;49m\u001B[38;5;124;43m\"\u001B[39;49m\u001B[43m]\u001B[49m\u001B[43m,\u001B[49m\n\u001B[1;32m    828\u001B[0m \u001B[43m    \u001B[49m\u001B[43mresponse_type\u001B[49m\u001B[38;5;241;43m=\u001B[39;49m\u001B[38;5;28;43mself\u001B[39;49m\u001B[38;5;241;43m.\u001B[39;49m\u001B[43msettings\u001B[49m\u001B[43m[\u001B[49m\u001B[38;5;124;43m\"\u001B[39;49m\u001B[38;5;124;43mresponse_type\u001B[39;49m\u001B[38;5;124;43m\"\u001B[39;49m\u001B[43m]\u001B[49m\u001B[43m,\u001B[49m\n\u001B[1;32m    829\u001B[0m \u001B[43m    \u001B[49m\u001B[43mauth_settings\u001B[49m\u001B[38;5;241;43m=\u001B[39;49m\u001B[38;5;28;43mself\u001B[39;49m\u001B[38;5;241;43m.\u001B[39;49m\u001B[43msettings\u001B[49m\u001B[43m[\u001B[49m\u001B[38;5;124;43m\"\u001B[39;49m\u001B[38;5;124;43mauth\u001B[39;49m\u001B[38;5;124;43m\"\u001B[39;49m\u001B[43m]\u001B[49m\u001B[43m,\u001B[49m\n\u001B[1;32m    830\u001B[0m \u001B[43m    \u001B[49m\u001B[43masync_req\u001B[49m\u001B[38;5;241;43m=\u001B[39;49m\u001B[43mkwargs\u001B[49m\u001B[43m[\u001B[49m\u001B[38;5;124;43m\"\u001B[39;49m\u001B[38;5;124;43masync_req\u001B[39;49m\u001B[38;5;124;43m\"\u001B[39;49m\u001B[43m]\u001B[49m\u001B[43m,\u001B[49m\n\u001B[1;32m    831\u001B[0m \u001B[43m    \u001B[49m\u001B[43m_check_type\u001B[49m\u001B[38;5;241;43m=\u001B[39;49m\u001B[43mkwargs\u001B[49m\u001B[43m[\u001B[49m\u001B[38;5;124;43m\"\u001B[39;49m\u001B[38;5;124;43m_check_return_type\u001B[39;49m\u001B[38;5;124;43m\"\u001B[39;49m\u001B[43m]\u001B[49m\u001B[43m,\u001B[49m\n\u001B[1;32m    832\u001B[0m \u001B[43m    \u001B[49m\u001B[43m_return_http_data_only\u001B[49m\u001B[38;5;241;43m=\u001B[39;49m\u001B[43mkwargs\u001B[49m\u001B[43m[\u001B[49m\u001B[38;5;124;43m\"\u001B[39;49m\u001B[38;5;124;43m_return_http_data_only\u001B[39;49m\u001B[38;5;124;43m\"\u001B[39;49m\u001B[43m]\u001B[49m\u001B[43m,\u001B[49m\n\u001B[1;32m    833\u001B[0m \u001B[43m    \u001B[49m\u001B[43m_preload_content\u001B[49m\u001B[38;5;241;43m=\u001B[39;49m\u001B[43mkwargs\u001B[49m\u001B[43m[\u001B[49m\u001B[38;5;124;43m\"\u001B[39;49m\u001B[38;5;124;43m_preload_content\u001B[39;49m\u001B[38;5;124;43m\"\u001B[39;49m\u001B[43m]\u001B[49m\u001B[43m,\u001B[49m\n\u001B[1;32m    834\u001B[0m \u001B[43m    \u001B[49m\u001B[43m_request_timeout\u001B[49m\u001B[38;5;241;43m=\u001B[39;49m\u001B[43mkwargs\u001B[49m\u001B[43m[\u001B[49m\u001B[38;5;124;43m\"\u001B[39;49m\u001B[38;5;124;43m_request_timeout\u001B[39;49m\u001B[38;5;124;43m\"\u001B[39;49m\u001B[43m]\u001B[49m\u001B[43m,\u001B[49m\n\u001B[1;32m    835\u001B[0m \u001B[43m    \u001B[49m\u001B[43m_host\u001B[49m\u001B[38;5;241;43m=\u001B[39;49m\u001B[43m_host\u001B[49m\u001B[43m,\u001B[49m\n\u001B[1;32m    836\u001B[0m \u001B[43m    \u001B[49m\u001B[43mcollection_formats\u001B[49m\u001B[38;5;241;43m=\u001B[39;49m\u001B[43mparams\u001B[49m\u001B[43m[\u001B[49m\u001B[38;5;124;43m\"\u001B[39;49m\u001B[38;5;124;43mcollection_format\u001B[39;49m\u001B[38;5;124;43m\"\u001B[39;49m\u001B[43m]\u001B[49m\u001B[43m,\u001B[49m\n\u001B[1;32m    837\u001B[0m \u001B[43m\u001B[49m\u001B[43m)\u001B[49m\n",
      "File \u001B[0;32m~/Desktop/Mercor/dev/env/lib/python3.10/site-packages/pinecone/core/openapi/shared/api_client.py:380\u001B[0m, in \u001B[0;36mApiClient.call_api\u001B[0;34m(self, resource_path, method, path_params, query_params, header_params, body, post_params, files, response_type, auth_settings, async_req, _return_http_data_only, collection_formats, _preload_content, _request_timeout, _host, _check_type)\u001B[0m\n\u001B[1;32m    326\u001B[0m \u001B[38;5;250m\u001B[39m\u001B[38;5;124;03m\"\"\"Makes the HTTP request (synchronous) and returns deserialized data.\u001B[39;00m\n\u001B[1;32m    327\u001B[0m \n\u001B[1;32m    328\u001B[0m \u001B[38;5;124;03mTo make an async_req request, set the async_req parameter.\u001B[39;00m\n\u001B[0;32m   (...)\u001B[0m\n\u001B[1;32m    377\u001B[0m \u001B[38;5;124;03m    then the method will return the response directly.\u001B[39;00m\n\u001B[1;32m    378\u001B[0m \u001B[38;5;124;03m\"\"\"\u001B[39;00m\n\u001B[1;32m    379\u001B[0m \u001B[38;5;28;01mif\u001B[39;00m \u001B[38;5;129;01mnot\u001B[39;00m async_req:\n\u001B[0;32m--> 380\u001B[0m     \u001B[38;5;28;01mreturn\u001B[39;00m \u001B[38;5;28;43mself\u001B[39;49m\u001B[38;5;241;43m.\u001B[39;49m\u001B[43m__call_api\u001B[49m\u001B[43m(\u001B[49m\n\u001B[1;32m    381\u001B[0m \u001B[43m        \u001B[49m\u001B[43mresource_path\u001B[49m\u001B[43m,\u001B[49m\n\u001B[1;32m    382\u001B[0m \u001B[43m        \u001B[49m\u001B[43mmethod\u001B[49m\u001B[43m,\u001B[49m\n\u001B[1;32m    383\u001B[0m \u001B[43m        \u001B[49m\u001B[43mpath_params\u001B[49m\u001B[43m,\u001B[49m\n\u001B[1;32m    384\u001B[0m \u001B[43m        \u001B[49m\u001B[43mquery_params\u001B[49m\u001B[43m,\u001B[49m\n\u001B[1;32m    385\u001B[0m \u001B[43m        \u001B[49m\u001B[43mheader_params\u001B[49m\u001B[43m,\u001B[49m\n\u001B[1;32m    386\u001B[0m \u001B[43m        \u001B[49m\u001B[43mbody\u001B[49m\u001B[43m,\u001B[49m\n\u001B[1;32m    387\u001B[0m \u001B[43m        \u001B[49m\u001B[43mpost_params\u001B[49m\u001B[43m,\u001B[49m\n\u001B[1;32m    388\u001B[0m \u001B[43m        \u001B[49m\u001B[43mfiles\u001B[49m\u001B[43m,\u001B[49m\n\u001B[1;32m    389\u001B[0m \u001B[43m        \u001B[49m\u001B[43mresponse_type\u001B[49m\u001B[43m,\u001B[49m\n\u001B[1;32m    390\u001B[0m \u001B[43m        \u001B[49m\u001B[43mauth_settings\u001B[49m\u001B[43m,\u001B[49m\n\u001B[1;32m    391\u001B[0m \u001B[43m        \u001B[49m\u001B[43m_return_http_data_only\u001B[49m\u001B[43m,\u001B[49m\n\u001B[1;32m    392\u001B[0m \u001B[43m        \u001B[49m\u001B[43mcollection_formats\u001B[49m\u001B[43m,\u001B[49m\n\u001B[1;32m    393\u001B[0m \u001B[43m        \u001B[49m\u001B[43m_preload_content\u001B[49m\u001B[43m,\u001B[49m\n\u001B[1;32m    394\u001B[0m \u001B[43m        \u001B[49m\u001B[43m_request_timeout\u001B[49m\u001B[43m,\u001B[49m\n\u001B[1;32m    395\u001B[0m \u001B[43m        \u001B[49m\u001B[43m_host\u001B[49m\u001B[43m,\u001B[49m\n\u001B[1;32m    396\u001B[0m \u001B[43m        \u001B[49m\u001B[43m_check_type\u001B[49m\u001B[43m,\u001B[49m\n\u001B[1;32m    397\u001B[0m \u001B[43m    \u001B[49m\u001B[43m)\u001B[49m\n\u001B[1;32m    399\u001B[0m \u001B[38;5;28;01mreturn\u001B[39;00m \u001B[38;5;28mself\u001B[39m\u001B[38;5;241m.\u001B[39mpool\u001B[38;5;241m.\u001B[39mapply_async(\n\u001B[1;32m    400\u001B[0m     \u001B[38;5;28mself\u001B[39m\u001B[38;5;241m.\u001B[39m__call_api,\n\u001B[1;32m    401\u001B[0m     (\n\u001B[0;32m   (...)\u001B[0m\n\u001B[1;32m    418\u001B[0m     ),\n\u001B[1;32m    419\u001B[0m )\n",
      "File \u001B[0;32m~/Desktop/Mercor/dev/env/lib/python3.10/site-packages/pinecone/core/openapi/shared/api_client.py:187\u001B[0m, in \u001B[0;36mApiClient.__call_api\u001B[0;34m(self, resource_path, method, path_params, query_params, header_params, body, post_params, files, response_type, auth_settings, _return_http_data_only, collection_formats, _preload_content, _request_timeout, _host, _check_type)\u001B[0m\n\u001B[1;32m    185\u001B[0m \u001B[38;5;28;01mexcept\u001B[39;00m PineconeApiException \u001B[38;5;28;01mas\u001B[39;00m e:\n\u001B[1;32m    186\u001B[0m     e\u001B[38;5;241m.\u001B[39mbody \u001B[38;5;241m=\u001B[39m e\u001B[38;5;241m.\u001B[39mbody\u001B[38;5;241m.\u001B[39mdecode(\u001B[38;5;124m\"\u001B[39m\u001B[38;5;124mutf-8\u001B[39m\u001B[38;5;124m\"\u001B[39m)\n\u001B[0;32m--> 187\u001B[0m     \u001B[38;5;28;01mraise\u001B[39;00m e\n\u001B[1;32m    189\u001B[0m \u001B[38;5;28mself\u001B[39m\u001B[38;5;241m.\u001B[39mlast_response \u001B[38;5;241m=\u001B[39m response_data\n\u001B[1;32m    191\u001B[0m return_data \u001B[38;5;241m=\u001B[39m response_data\n",
      "File \u001B[0;32m~/Desktop/Mercor/dev/env/lib/python3.10/site-packages/pinecone/core/openapi/shared/api_client.py:175\u001B[0m, in \u001B[0;36mApiClient.__call_api\u001B[0;34m(self, resource_path, method, path_params, query_params, header_params, body, post_params, files, response_type, auth_settings, _return_http_data_only, collection_formats, _preload_content, _request_timeout, _host, _check_type)\u001B[0m\n\u001B[1;32m    171\u001B[0m     url \u001B[38;5;241m=\u001B[39m _host \u001B[38;5;241m+\u001B[39m resource_path\n\u001B[1;32m    173\u001B[0m \u001B[38;5;28;01mtry\u001B[39;00m:\n\u001B[1;32m    174\u001B[0m     \u001B[38;5;66;03m# perform request and return response\u001B[39;00m\n\u001B[0;32m--> 175\u001B[0m     response_data \u001B[38;5;241m=\u001B[39m \u001B[38;5;28;43mself\u001B[39;49m\u001B[38;5;241;43m.\u001B[39;49m\u001B[43mrequest\u001B[49m\u001B[43m(\u001B[49m\n\u001B[1;32m    176\u001B[0m \u001B[43m        \u001B[49m\u001B[43mmethod\u001B[49m\u001B[43m,\u001B[49m\n\u001B[1;32m    177\u001B[0m \u001B[43m        \u001B[49m\u001B[43murl\u001B[49m\u001B[43m,\u001B[49m\n\u001B[1;32m    178\u001B[0m \u001B[43m        \u001B[49m\u001B[43mquery_params\u001B[49m\u001B[38;5;241;43m=\u001B[39;49m\u001B[43mquery_params\u001B[49m\u001B[43m,\u001B[49m\n\u001B[1;32m    179\u001B[0m \u001B[43m        \u001B[49m\u001B[43mheaders\u001B[49m\u001B[38;5;241;43m=\u001B[39;49m\u001B[43mheader_params\u001B[49m\u001B[43m,\u001B[49m\n\u001B[1;32m    180\u001B[0m \u001B[43m        \u001B[49m\u001B[43mpost_params\u001B[49m\u001B[38;5;241;43m=\u001B[39;49m\u001B[43mpost_params\u001B[49m\u001B[43m,\u001B[49m\n\u001B[1;32m    181\u001B[0m \u001B[43m        \u001B[49m\u001B[43mbody\u001B[49m\u001B[38;5;241;43m=\u001B[39;49m\u001B[43mbody\u001B[49m\u001B[43m,\u001B[49m\n\u001B[1;32m    182\u001B[0m \u001B[43m        \u001B[49m\u001B[43m_preload_content\u001B[49m\u001B[38;5;241;43m=\u001B[39;49m\u001B[43m_preload_content\u001B[49m\u001B[43m,\u001B[49m\n\u001B[1;32m    183\u001B[0m \u001B[43m        \u001B[49m\u001B[43m_request_timeout\u001B[49m\u001B[38;5;241;43m=\u001B[39;49m\u001B[43m_request_timeout\u001B[49m\u001B[43m,\u001B[49m\n\u001B[1;32m    184\u001B[0m \u001B[43m    \u001B[49m\u001B[43m)\u001B[49m\n\u001B[1;32m    185\u001B[0m \u001B[38;5;28;01mexcept\u001B[39;00m PineconeApiException \u001B[38;5;28;01mas\u001B[39;00m e:\n\u001B[1;32m    186\u001B[0m     e\u001B[38;5;241m.\u001B[39mbody \u001B[38;5;241m=\u001B[39m e\u001B[38;5;241m.\u001B[39mbody\u001B[38;5;241m.\u001B[39mdecode(\u001B[38;5;124m\"\u001B[39m\u001B[38;5;124mutf-8\u001B[39m\u001B[38;5;124m\"\u001B[39m)\n",
      "File \u001B[0;32m~/Desktop/Mercor/dev/env/lib/python3.10/site-packages/pinecone/core/openapi/shared/api_client.py:460\u001B[0m, in \u001B[0;36mApiClient.request\u001B[0;34m(self, method, url, query_params, headers, post_params, body, _preload_content, _request_timeout)\u001B[0m\n\u001B[1;32m    450\u001B[0m     \u001B[38;5;28;01mreturn\u001B[39;00m \u001B[38;5;28mself\u001B[39m\u001B[38;5;241m.\u001B[39mrest_client\u001B[38;5;241m.\u001B[39mOPTIONS(\n\u001B[1;32m    451\u001B[0m         url,\n\u001B[1;32m    452\u001B[0m         query_params\u001B[38;5;241m=\u001B[39mquery_params,\n\u001B[0;32m   (...)\u001B[0m\n\u001B[1;32m    457\u001B[0m         body\u001B[38;5;241m=\u001B[39mbody,\n\u001B[1;32m    458\u001B[0m     )\n\u001B[1;32m    459\u001B[0m \u001B[38;5;28;01melif\u001B[39;00m method \u001B[38;5;241m==\u001B[39m \u001B[38;5;124m\"\u001B[39m\u001B[38;5;124mPOST\u001B[39m\u001B[38;5;124m\"\u001B[39m:\n\u001B[0;32m--> 460\u001B[0m     \u001B[38;5;28;01mreturn\u001B[39;00m \u001B[38;5;28;43mself\u001B[39;49m\u001B[38;5;241;43m.\u001B[39;49m\u001B[43mrest_client\u001B[49m\u001B[38;5;241;43m.\u001B[39;49m\u001B[43mPOST\u001B[49m\u001B[43m(\u001B[49m\n\u001B[1;32m    461\u001B[0m \u001B[43m        \u001B[49m\u001B[43murl\u001B[49m\u001B[43m,\u001B[49m\n\u001B[1;32m    462\u001B[0m \u001B[43m        \u001B[49m\u001B[43mquery_params\u001B[49m\u001B[38;5;241;43m=\u001B[39;49m\u001B[43mquery_params\u001B[49m\u001B[43m,\u001B[49m\n\u001B[1;32m    463\u001B[0m \u001B[43m        \u001B[49m\u001B[43mheaders\u001B[49m\u001B[38;5;241;43m=\u001B[39;49m\u001B[43mheaders\u001B[49m\u001B[43m,\u001B[49m\n\u001B[1;32m    464\u001B[0m \u001B[43m        \u001B[49m\u001B[43mpost_params\u001B[49m\u001B[38;5;241;43m=\u001B[39;49m\u001B[43mpost_params\u001B[49m\u001B[43m,\u001B[49m\n\u001B[1;32m    465\u001B[0m \u001B[43m        \u001B[49m\u001B[43m_preload_content\u001B[49m\u001B[38;5;241;43m=\u001B[39;49m\u001B[43m_preload_content\u001B[49m\u001B[43m,\u001B[49m\n\u001B[1;32m    466\u001B[0m \u001B[43m        \u001B[49m\u001B[43m_request_timeout\u001B[49m\u001B[38;5;241;43m=\u001B[39;49m\u001B[43m_request_timeout\u001B[49m\u001B[43m,\u001B[49m\n\u001B[1;32m    467\u001B[0m \u001B[43m        \u001B[49m\u001B[43mbody\u001B[49m\u001B[38;5;241;43m=\u001B[39;49m\u001B[43mbody\u001B[49m\u001B[43m,\u001B[49m\n\u001B[1;32m    468\u001B[0m \u001B[43m    \u001B[49m\u001B[43m)\u001B[49m\n\u001B[1;32m    469\u001B[0m \u001B[38;5;28;01melif\u001B[39;00m method \u001B[38;5;241m==\u001B[39m \u001B[38;5;124m\"\u001B[39m\u001B[38;5;124mPUT\u001B[39m\u001B[38;5;124m\"\u001B[39m:\n\u001B[1;32m    470\u001B[0m     \u001B[38;5;28;01mreturn\u001B[39;00m \u001B[38;5;28mself\u001B[39m\u001B[38;5;241m.\u001B[39mrest_client\u001B[38;5;241m.\u001B[39mPUT(\n\u001B[1;32m    471\u001B[0m         url,\n\u001B[1;32m    472\u001B[0m         query_params\u001B[38;5;241m=\u001B[39mquery_params,\n\u001B[0;32m   (...)\u001B[0m\n\u001B[1;32m    477\u001B[0m         body\u001B[38;5;241m=\u001B[39mbody,\n\u001B[1;32m    478\u001B[0m     )\n",
      "File \u001B[0;32m~/Desktop/Mercor/dev/env/lib/python3.10/site-packages/pinecone/core/openapi/shared/rest.py:345\u001B[0m, in \u001B[0;36mRESTClientObject.POST\u001B[0;34m(self, url, headers, query_params, post_params, body, _preload_content, _request_timeout)\u001B[0m\n\u001B[1;32m    335\u001B[0m \u001B[38;5;28;01mdef\u001B[39;00m \u001B[38;5;21mPOST\u001B[39m(\n\u001B[1;32m    336\u001B[0m     \u001B[38;5;28mself\u001B[39m,\n\u001B[1;32m    337\u001B[0m     url,\n\u001B[0;32m   (...)\u001B[0m\n\u001B[1;32m    343\u001B[0m     _request_timeout\u001B[38;5;241m=\u001B[39m\u001B[38;5;28;01mNone\u001B[39;00m,\n\u001B[1;32m    344\u001B[0m ):\n\u001B[0;32m--> 345\u001B[0m     \u001B[38;5;28;01mreturn\u001B[39;00m \u001B[38;5;28;43mself\u001B[39;49m\u001B[38;5;241;43m.\u001B[39;49m\u001B[43mrequest\u001B[49m\u001B[43m(\u001B[49m\n\u001B[1;32m    346\u001B[0m \u001B[43m        \u001B[49m\u001B[38;5;124;43m\"\u001B[39;49m\u001B[38;5;124;43mPOST\u001B[39;49m\u001B[38;5;124;43m\"\u001B[39;49m\u001B[43m,\u001B[49m\n\u001B[1;32m    347\u001B[0m \u001B[43m        \u001B[49m\u001B[43murl\u001B[49m\u001B[43m,\u001B[49m\n\u001B[1;32m    348\u001B[0m \u001B[43m        \u001B[49m\u001B[43mheaders\u001B[49m\u001B[38;5;241;43m=\u001B[39;49m\u001B[43mheaders\u001B[49m\u001B[43m,\u001B[49m\n\u001B[1;32m    349\u001B[0m \u001B[43m        \u001B[49m\u001B[43mquery_params\u001B[49m\u001B[38;5;241;43m=\u001B[39;49m\u001B[43mquery_params\u001B[49m\u001B[43m,\u001B[49m\n\u001B[1;32m    350\u001B[0m \u001B[43m        \u001B[49m\u001B[43mpost_params\u001B[49m\u001B[38;5;241;43m=\u001B[39;49m\u001B[43mpost_params\u001B[49m\u001B[43m,\u001B[49m\n\u001B[1;32m    351\u001B[0m \u001B[43m        \u001B[49m\u001B[43m_preload_content\u001B[49m\u001B[38;5;241;43m=\u001B[39;49m\u001B[43m_preload_content\u001B[49m\u001B[43m,\u001B[49m\n\u001B[1;32m    352\u001B[0m \u001B[43m        \u001B[49m\u001B[43m_request_timeout\u001B[49m\u001B[38;5;241;43m=\u001B[39;49m\u001B[43m_request_timeout\u001B[49m\u001B[43m,\u001B[49m\n\u001B[1;32m    353\u001B[0m \u001B[43m        \u001B[49m\u001B[43mbody\u001B[49m\u001B[38;5;241;43m=\u001B[39;49m\u001B[43mbody\u001B[49m\u001B[43m,\u001B[49m\n\u001B[1;32m    354\u001B[0m \u001B[43m    \u001B[49m\u001B[43m)\u001B[49m\n",
      "File \u001B[0;32m~/Desktop/Mercor/dev/env/lib/python3.10/site-packages/pinecone/core/openapi/shared/rest.py:279\u001B[0m, in \u001B[0;36mRESTClientObject.request\u001B[0;34m(self, method, url, query_params, headers, body, post_params, _preload_content, _request_timeout)\u001B[0m\n\u001B[1;32m    276\u001B[0m     \u001B[38;5;28;01mif\u001B[39;00m \u001B[38;5;241m500\u001B[39m \u001B[38;5;241m<\u001B[39m\u001B[38;5;241m=\u001B[39m r\u001B[38;5;241m.\u001B[39mstatus \u001B[38;5;241m<\u001B[39m\u001B[38;5;241m=\u001B[39m \u001B[38;5;241m599\u001B[39m:\n\u001B[1;32m    277\u001B[0m         \u001B[38;5;28;01mraise\u001B[39;00m ServiceException(http_resp\u001B[38;5;241m=\u001B[39mr)\n\u001B[0;32m--> 279\u001B[0m     \u001B[38;5;28;01mraise\u001B[39;00m PineconeApiException(http_resp\u001B[38;5;241m=\u001B[39mr)\n\u001B[1;32m    281\u001B[0m \u001B[38;5;28;01mreturn\u001B[39;00m r\n",
      "\u001B[0;31mPineconeApiException\u001B[0m: (400)\nReason: Bad Request\nHTTP response headers: HTTPHeaderDict({'Date': 'Wed, 07 Aug 2024 13:30:54 GMT', 'Content-Type': 'application/json', 'Content-Length': '115', 'Connection': 'keep-alive', 'x-pinecone-request-latency-ms': '4', 'x-pinecone-request-id': '2503468890380648804', 'x-envoy-upstream-service-time': '2', 'server': 'envoy'})\nHTTP response body: {\"code\":3,\"message\":\"Metadata size is 45131 bytes, which exceeds the limit of 40960 bytes per vector\",\"details\":[]}\n"
     ]
    }
   ],
   "execution_count": 103
  },
  {
   "metadata": {
    "ExecuteTime": {
     "end_time": "2024-08-07T13:57:54.238253Z",
     "start_time": "2024-08-07T13:57:51.882622Z"
    }
   },
   "cell_type": "code",
   "source": [
    "# QUERY THE INDEX\n",
    "from langchain.vectorstores import Pinecone\n",
    "\n",
    "text_field = \"text\"\n",
    "\n",
    "vectorstore = Pinecone(\n",
    "    index, embed.embed_query, text_field\n",
    ")\n",
    "\n",
    "query = \"Give me list of candidates with part time salary less than 2000\"\n",
    "query_embedding = embed.embed_query(query)\n",
    "print(query_embedding)\n",
    "\n",
    "index.query(vector=query_embedding, top_k=3)\n",
    "\n",
    "# vectorstore.similarity_search(\n",
    "#     query,\n",
    "#     k=3\n",
    "# )"
   ],
   "id": "5cd3eea26bfe16f5",
   "outputs": [
    {
     "name": "stdout",
     "output_type": "stream",
     "text": [
      "[0.002593112247738291, -0.008139044465362991, 0.008260735721914528, -0.007011604053958566, -0.0508815539635281, 0.02416658994416047, -0.03410238185423518, 0.009491972027725787, -0.03559131696286527, -0.017910192524448806, 0.019413445785439697, 0.02167548475310643, 0.0007869711348843807, -0.009606506070741956, 0.01275618014649395, 0.00775965161202507, 0.015605203756312268, -0.0036257044458082362, 0.007637959889812276, -0.0003241390309672864, -0.0240520559011443, 0.002843654535513649, -0.0029116590071391864, 0.017724075170208787, 0.008010194132631057, 0.007076029220324533, 0.028117999527058114, 0.004849782373930983, -0.013858566119573274, 0.010250757734401629, 0.028203899127997725, -0.018812144853572348, -0.022620385951377258, -0.009678089381965805, -0.031009973868668755, 0.01382277446396135, 0.007824076778391037, 0.032183943152971926, 0.04879131606038563, 0.007466159290949277, 0.02130325004462639, 0.019757046051843176, 0.007652276179528039, -0.010930801053673224, -0.034188279592529756, 0.0016840018901721839, 0.021704117332537954, -0.009950106337145437, -0.01679349026165372, 0.021976134287717587, -0.012827763457717798, -0.004205530710271312, -0.026972662822186466, 0.008403903275684741, -0.011839911527654646, 0.016406939263457918, 0.01815357690019691, 0.022677652972885345, -0.018540127898392714, 0.008368111620072817, -0.004212689320790451, -0.0017555854342266616, -0.030150970408692503, 0.003969305410703604, -0.023665504902948498, -0.023350539078621575, -0.006900649549032594, 0.007466159290949277, -0.0060989145075482035, 0.0014710409106385351, 0.03822558877636701, 0.025426460692048288, 0.009763989914227934, -0.005937851591633285, 0.031153140491116452, -0.00866160394114861, -0.021689801042822192, 0.003786767361723154, 0.0057123635093524, -0.0039227760721435995, 0.0322984771959881, 0.002532266386631894, -0.020759216134267126, -0.028590450126193528, 0.014345333939746968, 0.011897177617840217, 0.01758090854776109, -0.002553741519697426, -0.030723638761128325, -0.021976134287717587, 0.029220385500137436, 0.0028991317879766354, 0.026385678180034882, 0.009456180372113862, -0.001975704558618192, 0.0280320999261185, -0.0341310144336667, 0.03467504834402597, 0.010494141178827217, -0.038025156995056264, -0.016478522574681766, 0.005851951525032415, -0.03275660964276272, -0.000383419135197508, -0.01736615675144451, -0.01922732843119968, -0.0046815608474969255, -0.006796853654625762, -2.8549513466653514e-05, 0.016521471443829056, -0.012154878283304084, 0.01284923882361396, 0.022892404769201923, -0.03341517759613815, -0.01237678729315603, -0.037452486779975404, 0.007229933525720311, -0.01676485581957716, -0.005970064174816269, -0.037481123084697, 0.021575266999806022, 0.017194357549565286, 0.021288933754910627, -0.007423209024818213, 0.011052492310224761, -0.009814097859555622, -0.021546634420374494, -0.032098041689387284, 0.0007771283946665071, 0.006936441204644518, -0.008461170297192826, 0.017824292923509195, 0.024367023588116255, 0.011317352051869027, -0.030465938095664457, 0.0013717188567678787, -0.023508021990785038, 0.005798263575953271, -0.01589153793253018, -0.0013627709428648976, 0.01000021521379564, 0.018511493456316155, 0.007645118034670157, -0.01304251432271186, 0.019270279162992, 0.025569627314495986, -0.004384489453992192, -0.02423817325538432, 0.003265997189321377, -0.023508021990785038, 0.010043165014265448, 0.006904228621461535, -0.0011059651619235787, -0.0048712572741658865, -0.02283513774769384, -0.004101734815864479, 0.007437525780195234, -0.014688934206150448, 0.006399564973481878, -0.01390151592004308, -0.003203361792000509, 0.0036274939820227065, 0.003514749940882264, -0.008590020629924762, -0.00024360760211365607, 0.01987158009485935, 0.012648805179658176, 0.009878523025921588, -0.003471799907581829, 0.016049020844693642, 0.015003901893122402, 0.009534922759518108, -0.03066637173962024, 0.03166854182204419, 0.004345118725951326, 0.004456073230877299, -0.01241973802494835, -0.00819631055554856, 0.0011184922646708152, -0.018855093722719637, -0.011653794173414627, 0.01875487783206426, 0.016707588798069075, 0.030523205117172544, -0.01977136234155894, 0.013758349297595382, -0.006106072652406085, 0.011804119872042721, 0.006839803455095567, 6.957021394979843e-05, 0.012011711660856387, 0.005945009736491167, -0.0010486982568308077, -0.0007762336265592719, -0.6281022630115598, -0.029349235832869372, -0.00818915241069068, 0.01418069195140311, 0.011446202384600961, 0.01063730873259743, 0.01639262111109712, -0.006299348151503986, -0.041088928675901096, -0.013371798299399579, -0.018883728164796196, -0.007025920809335587, -0.011696743973884432, -1.2673915191744038e-05, 0.016664639928921785, -0.024495873920848187, 0.01392299128593924, 0.015490669713296098, 0.007165508359354344, 0.01697960761589374, -0.014703251427188728, 0.0048963117124909885, -0.010322341045625478, 0.03181170844449189, 0.021503683688582173, -0.007219196308433489, -0.021217350443686778, -0.021102816400670608, -0.0031031447371919884, 0.03275660964276272, -0.0101648572021395, 0.029277652521645523, -0.005733838409587303, 0.016593056617697936, 0.05672276780561244, -0.003056615631462612, -0.0139444666518354, 0.006463990139847845, -0.0006294874078137181, 0.035705851005881445, -0.05030888374844725, -0.01266312146937394, -0.012691754980127984, -0.008539911753274558, 0.0005113746416145499, -0.00013377167373704248, -0.008940779041186123, 0.02724468164001113, -0.005103903501304653, -0.015275919779624551, 0.004878415884685026, 0.018396959413299985, -0.030838172804144498, -0.02055878249031134, 0.05022298601015267, -0.02472494200688053, -0.005350866949481699, -0.06362341688898378, 0.0014504606620955528, 0.002476789134168908, 0.002306778304351009, -0.00901952142859037, -0.031468106315443375, -0.02227678568497378, 0.009134054540284025, -0.007587851013162072, 0.010744683699433204, 0.011711061194922712, 0.03267071190446814, -0.02581301169024409, -0.003600650240313763, 0.019828629363067025, 0.011174184498098814, 0.03879825899144786, 0.016020388265262114, 0.010830584231695332, 0.024739258296596293, -0.02343643867956119, -0.021890234686777976, 0.02183296766526989, 0.021990452440078384, -0.017008240195325267, -0.00285439221846173, -0.0068433829931857666, -0.010293707534871435, -0.005970064174816269, 0.0030798800679119856, -0.023665504902948498, 0.004738827869005011, 0.004058784549733415, -0.002303199231922068, 0.03410238185423518, 0.017752707749640315, -0.00660357815552786, -0.01390151592004308, 0.021432100377358324, -0.008403903275684741, 0.008575703408886482, 0.037595657127713164, -0.019327546184500083, 0.0060237516582341555, 0.00937743891603213, 0.01392299128593924, -0.022334052706481863, 0.026629062555782988, -0.0011587579936495446, -0.0021564530713841716, -0.017036872774756795, 0.010451191378357412, -0.021432100377358324, 0.02292103734863345, -0.020014746717307047, -0.00787418565504124, -0.0013180312569346776, -0.005093166284017831, -0.02541214253968749, 0.000785181540462253, -0.0034127433498592733, -0.02123166673340254, -0.025025591541491688, -0.015648153556782073, 0.024438606899340104, 0.037395221621112355, -0.014688934206150448, -0.009556397194091753, 0.014359650229462732, 0.009291538383770002, 0.007269304719422435, 0.025798693537883294, -0.015247286268870508, -0.008625812285536686, -0.010844900521411096, 0.02667201328757531, -0.007938610821407208, 0.01017917442317778, -0.010121907401669693, 0.00348611666295885, -0.0028687087410081222, -0.0001999864054213087, -0.024438606899340104, 0.011059651386405158, -0.0007444684274299059, -0.016664639928921785, -0.021704117332537954, -0.0019345441779475417, -0.018010408415104182, 0.004112472033151302, 0.010043165014265448, 0.008532753608416675, -0.013028197101673583, -0.025226027048092504, 0.004384489453992192, -0.0229926206598573, -0.013307373133033611, 0.008003035987773176, -0.024596091674148595, -0.007573534723446308, 0.00561930483223239, -0.003908459316766578, -0.014674617916434686, 0.003722342195357187, -0.002859760827105141, -0.0036364418959256876, -0.006836224382666627, -0.007902818234472768, -0.010207807002609306, 0.006134706163160128, 0.014416917250970817, 0.01998611413787552, -0.004395227136940272, 0.012247936960424094, 0.01330021498817573, 0.009806939714697739, 0.02014359705003898, 0.0021242404882011877, -0.026629062555782988, -0.014674617916434686, 0.010486983033969336, -0.012426896169806233, 0.008074619298997025, 0.025082858562999775, 0.013650973399437093, -0.019170061409691592, 0.022649020393453817, 0.027516698595190764, 0.005114641184252733, -0.031954875066939586, 0.0004720037098468842, -0.052370489072158195, 0.010494141178827217, -0.017953141393596096, -0.004753144624382033, -0.012348153782401986, 0.013765507442453263, 0.01939912949572393, 0.03373014714575514, 0.01984294751542782, -0.006435356629093803, 0.005848371986942216, -0.016593056617697936, 0.017194357549565286, 0.022219518663465693, -0.008153360755078755, -0.0045670272701420125, 0.016091971576485963, -0.04678697589553773, -0.0014603034605210838, -0.01748069079446068, 0.008726029107514577, 0.037481123084697, -0.009205638782830391, -0.017280257150504897, -0.0067610619990138374, 0.018969627765735807, 0.0029796632459340943, 0.016034704554977876, -0.05139695529445584, 0.014731884937942771, -0.014402600961255053, -0.010322341045625478, 0.0176668081487007, -0.008561387119170719, 0.015490669713296098, -0.002192244726996096, 0.021704117332537954, -0.007702384590516985, -0.01915574511997583, -0.0026843813886438307, 0.00016363541787896207, -0.005161170522812739, -0.02283513774769384, -0.0030941968232890073, -0.005408133505328526, 0.00677179921630066, 0.020730581692190567, -0.024567457232072036, 0.0013761928137193693, -0.02044424844729517, 0.021546634420374494, 0.0153475030908484, -0.0009377438683201502, 0.015376136601602442, 0.020301081824847474, -0.006943599815163658, -0.012298045837074298, 0.007351625713594364, 0.029463769875885542, 0.025984810892123317, -0.0017224779665211284, 0.02682949619973877, -0.0025698478112889177, 0.003509381099408224, 0.007544901212692265, 0.026514528512766814, 0.010200648857751425, -0.03476094980761061, -0.012949455645591851, 0.020544464337950548, -0.00935596355013597, 0.026972662822186466, 0.011539260130398455, -0.014173533806545227, 0.004219847465648333, -0.04667244185252156, 0.027831666282162718, 0.00043240908605240975, 0.013786982808349425, -0.007637959889812276, 0.013400431810153622, -0.03564858584701839, -0.0010111169485890984, 0.0007860763085694882, 0.016206505619502133, -0.002306778304351009, 0.018697610810556178, 0.004409543892317294, -0.012842080678756078, 0.01577700388951401, 0.02528329220695556, -0.016850757283161804, -0.007952927111122972, -0.01988589638457511, 0.021618217731598343, 0.02412364107501318, -0.015032535403876446, -0.019628195719111244, -0.013815616319103467, -0.005443925160940452, -0.010078956669877372, -0.009678089381965805, 0.0013654552471866034, -0.005136116084487637, 0.009520605538479828, 0.0063924068286239965, -0.03149674262016496, -0.0009636929001295156, 0.020344030693994763, 0.015719736868005922, -0.010114749256811812, 0.006088176824600122, 0.008933620896328242, 0.008045985788242982, -0.003251680666774984, -0.00723351306381051, 0.02230542012705034, 0.01829674352264461, -0.012011711660856387, -0.02229110197468954, 0.01247700411513392, -0.023221688745889642, 0.003518329013311205, -0.007190562797679446, 0.017108456085980644, -0.001034381617869101, -0.012777655512390112, 0.0035487520602797184, -0.019284595452707762, 0.012326679347828341, 0.03172580698090724, 0.013192839090017441, 0.0007185193956205406, 0.005218437078659566, -0.03310021177181123, 0.011381777218234995, 0.08710280257504723, 0.03304294288765811, 0.005035899262509745, -0.007895660089614885, -0.010358132701237402, -0.014481342417336784, -0.008597178774782643, -0.00011235254371374135, 0.008697395596760535, -0.00793145174522681, 0.016020388265262114, -0.0278889333036708, 0.008547069898132439, -0.013772665587311146, 0.012770496436209713, -0.015290236069340313, -0.022563118929869175, -0.03421691217196129, 0.032183943152971926, 0.011997395371140623, -0.015805636468945537, 0.005390237677522564, 0.016550105885905615, 0.013672448765333254, -0.007816918633533156, 0.030150970408692503, 0.009556397194091753, 0.016893706152309097, -0.012176353649200245, -0.017423423772952595, -0.007018762198816448, -0.0042735349490662196, -0.007523425846796105, -0.004262797731779397, 0.004524077469672207, 0.02461040796386436, -0.016406939263457918, 0.022004768729794146, 0.02345075496927695, 0.003586333484936742, 0.018354010544152696, 0.014631668115964879, 0.018253792790852288, -0.01924164472091544, 0.002872288046267692, -0.028776567480433547, -0.0167505395298614, 0.02724468164001113, 0.00037178680055750677, -0.028905417813165482, 0.029864637163797107, 0.01630672151015751, 0.004538394225049228, -0.00535444602191064, 0.0012419737559287093, -0.00195780873081223, -0.01919869585176815, -0.01612060415591749, -0.022033401309225674, -0.02479652531810438, -0.025984810892123317, -0.01732320788229722, 0.031439473736011844, 0.008611495064498407, -0.03587765020776067, -0.013887199630327316, -0.0018316428188173155, 0.003573806265774191, -0.029034268145897418, -0.007212037697914349, -9.948988109842023e-05, -0.002600270625426802, -0.0260420779136314, 0.016091971576485963, 0.010329499190483359, 0.004907048929777811, 0.004531235614530088, -0.00374739640085166, 0.013407589955011503, 0.01410910864017926, -0.029578303918901712, -0.016593056617697936, 0.01516138573660838, -0.013049672467569743, -0.009384597060890013, -0.0052792831725965925, -0.022448586749498036, -0.0005404554200068957, -0.0271015131549184, -0.00696149564296962, -0.009692406603004085, -0.01327873962227957, 0.028991317414105093, -0.0456989080748192, 0.006073860069223102, 0.013192839090017441, 0.0229926206598573, 0.007297938230176477, -0.018139258747836118, 0.008532753608416675, -0.0006943599582333029, -0.035705851005881445, -0.008353794399034538, -0.004785357207565016, -0.02731626495123498, 0.046271574564609994, 0.034331446214977454, 0.010630149656417034, 0.01803904285718074, -0.0016437361611934542, -0.003972884483132545, -0.004538394225049228, 0.018139258747836118, 0.0012786602960631833, 0.009499131103906183, 0.010343816411521638, 0.015562253024519947, 0.03785335406788697, 0.006285031396126965, 0.014509975928090826, 0.004624294291650098, -0.0012204987392784917, 0.01769544259077726, 0.03373014714575514, -0.011052492310224761, -0.010644466877455313, 0.0023783618484054868, -0.016363988531665596, 0.026800863620307244, -0.00944902222725598, -0.0028400754630847082, 0.017337524172012984, 0.006936441204644518, -0.02359392159172465, -0.010551408200335304, -0.0024284702593944324, 0.013314531277891494, 0.016091971576485963, -0.022448586749498036, -0.003172938745031996, 0.007824076778391037, -0.0267149621567226, -0.009871364881063707, -0.014245117117769076, 0.02655747924455914, -0.024853792339612466, -0.004280693559585359, -0.0043379601154321865, -0.001023644051336335, -0.004055205477304475, 0.03172580698090724, 0.007190562797679446, -0.03642168411811993, 0.0055334047656315204, -0.0019953901554692535, -0.024896741208759756, -0.0019739150224037214, -0.021260299312834068, 0.015648153556782073, 0.0160776552867702, 0.0383973917035363, -0.019055527366675422, 0.011288718541114984, -0.015433402691788011, 0.011754010995392519, 0.011660952318272508, -0.0020419194940292586, 0.010365290846095283, -0.00997873984789948, 0.0033322121247324433, 0.04263513266868431, -0.0023676243982880354, 0.002863340132364711, -0.023837305967472754, -0.009627981436638117, 0.011610844372944821, -0.0009041891329763138, -0.013622340820005565, -0.02655747924455914, -0.037481123084697, 0.0066536865665168055, -0.0029098694709247157, -0.02074489798190633, -0.013500648632131513, 0.0025304768504174234, -0.023865940409549313, 0.021918869128854535, 0.008532753608416675, 0.028160950258850435, 0.004169739054659388, 0.020129280760323217, -0.010057482235303727, 0.020873748314638264, -0.026357045600603354, 0.013450539755481309, -0.012505637625887963, 0.005196962178424663, -0.014495658707052547, -0.009348805405278089, 0.012391104514194309, 0.0139444666518354, 0.0027899670520957626, -0.01292798027969569, 0.014331016718708688, 0.0032570492754183957, -0.003965725872613405, -0.021102816400670608, -0.010014531503511405, 0.003883404878441476, 1.4834003171252366e-05, -0.010329499190483359, -0.02597049460240755, -0.04148979596381266, -0.010486983033969336, 0.021460734819434883, -0.0017001081817636756, -0.024395658030192814, 0.00037782665990431614, -0.005733838409587303, -0.01639262111109712, -0.013765507442453263, -0.0135579156536396, 0.026858130641815327, 0.01506116891463049, 0.032498908977298846, 0.007731018101271027, -0.001196339301891254, -0.03610671829379301, 0.012126245703872558, 6.207632004894601e-05, -0.010966592709285149, 0.015032535403876446, 0.0276455489279227, -0.023422122389845423, -0.02682949619973877, 0.02720173090821881, 0.018840777433003875, 0.0021492946936956608, -0.01612060415591749, 0.018253792790852288, 0.015304552359056077, 0.009599347925884075, 0.0056157257598034496, -0.010422557867603368, -0.03324337839425893, 0.004799673962942038, 0.012176353649200245, -0.0025573205921263667, 0.001993600619254783, -0.007373100613829267, -0.010916483832634945, 0.019928847116367433, -0.017895876234733044, 0.022691969262601107, 0.004080259449968318, 0.004785357207565016, -0.0023729930069314466, -0.02777439926065463, -0.01087353403216514, 0.03550541549928063, -0.0012777655279559482, 0.026700645867006836, 0.0036561272599461205, 0.008461170297192826, -0.019485029096663546, -0.010157699057281618, 0.0012357101463474338, 0.01574837131008248, -0.0003040061955817503, 0.024295440276892406, -0.02897700112438933, -0.036335786379825354, 0.024209540675952792, 0.017265940860789135, 0.011388935363092876, 0.006310085834452067, -0.002068763235738202, -0.014595876460352954, -0.011610844372944821, 0.025798693537883294, 0.02678654733059148, -0.00535444602191064, -0.036564854465857693, -0.005304337610921694, -0.017609541127192617, -0.023694139345025057, -0.004842623763411844, 0.007197720942537328, 0.003289261858601379, 0.0021385570107475805, 0.012369629148298146, -0.0005775894024026447, -0.02400910703199701, -0.0030959863595034776, 0.0026915397663323415, 0.007093925048130495, 0.00839674513082686, 0.004584923097947975, -0.0229926206598573, 0.025297610359316353, -0.011689585829026551, 0.011174184498098814, -0.03252754155673038, -0.009835573225451782, -0.015104118715100295, -0.020830799445490975, 0.005515508937825558, -0.028590450126193528, -0.015762687599798247, 0.00010250981077182494, 0.01882646114328811, 0.0010809108400137914, 0.019184377699407354, 0.003160411525869445, 0.010486983033969336, 0.019413445785439697, 0.011088284897159201, -0.006317243979309948, -0.007373100613829267, 0.027344897530666507, -2.034257758348728e-05, -0.011632318807518466, -0.009928631902571792, 0.015719736868005922, 0.029435135433808983, -0.014381125595358892, 0.02532624293874788, 0.02058741506974287, -0.0009619033057073879, -0.0026611167193638283, 0.005676571853740476, 0.03012233782926098, 0.02114576713246293, -0.017566592258045327, -0.033443813900859744, 0.02408069034322086, 0.0067753782887296, 0.045813442117835376, 0.0068755955763687504, -0.022935353638349212, 0.009821256935736019, -0.019628195719111244, -0.01614923859799405, 0.002489316353331459, -0.02107418382123908, -0.018568760477824242, -0.012319520271647942, 0.0016151027668547262, -0.015490669713296098, 0.009069629373918059, -0.005937851591633285, 0.043064636261317464, 0.013056830612427624, -0.004753144624382033, -0.003462851993678848, -0.006914966304409615, -0.03942819436539177, 0.006582102789631699, 0.010580041711089345, 0.018354010544152696, 0.0018611710976785935, 0.0020759216134267127, -0.0007856289245158707, 0.02014359705003898, -0.005465400526836612, 0.014674617916434686, -0.023651188613232735, 0.01815357690019691, -0.023207370593528846, -0.008439694931296666, 0.03295704514936353, -0.0028848150325996138, -0.029377868412300896, -0.0023443597290080326, 0.032498908977298846, 0.02247721932892956, 0.01637830482138136, 0.011474834964032489, -0.024524508362924746, -0.0022029821771135474, -0.0063924068286239965, -0.023508021990785038, 0.011360301852338833, -0.011109759331732846, 0.016278088930725982, -0.02833274946072966, -0.00926290487301596, -0.009964423558183716, -0.02375140636653314, 0.0037724506063461327, -0.010157699057281618, 0.010959434564427268, -0.006578523717202758, -0.018912360744227724, -0.022334052706481863, 0.006395985901052937, -0.002716593971826814, -0.009778306203943697, 0.01998611413787552, 0.03318611323539587, -0.020945333488507144, 0.016063337134409404, 0.011045334165366879, -0.022706287414961904, -0.003593491862625253, 0.001871908547796045, -0.011575052717332897, 0.008618653209356288, 0.01977136234155894, -0.008869195729962275, -0.001785113596672625, 0.00740173412458331, -0.012813447168002036, -0.006714532660453832, 0.022090668330733757, -0.032899776265210415, -0.023894572988980838, 0.010902167542919181, 0.005819738941849431, -0.006170497818772052, -0.03126767453413262, 0.010945117343388988, 0.016779172109292924, 0.003947830044807443, -0.0021439258522216206, -0.022906721058917688, -0.008625812285536686, -0.02141778408764256, 0.009656614016069645, 0.018797828563856582, -0.024495873920848187, -0.031210407512624536, -0.03224120831183498, 0.0032069408644294496, -0.018425593855376544, 0.028690667879493936, 0.20547329086009725, 0.0046421901194560605, 0.007995876911592778, 0.05995834241362656, 0.01498958560340664, 0.015218652758116465, 0.007881343799899123, 0.013858566119573274, -0.006295769079075046, 0.024524508362924746, -0.011116917476590727, -0.011481994040212886, -0.021961817998001825, 0.004688719458016065, 0.00463861104702712, -0.0169939239056095, -0.040659428808558, -0.04177613293399812, -0.023221688745889642, 0.02116008342217869, -0.00696149564296962, 0.010172015346997382, -0.01736615675144451, -0.030637739160188714, 0.023207370593528846, 0.03510454821136906, -0.0025501622144378563, 0.004864099129308005, 0.019327546184500083, 0.01862602749933233, 0.0053365501941046774, 0.009062471229060176, 0.011274401320076705, -0.002603849930686372, -0.017151406817772965, -0.0022548803571475927, -0.030981339426592196, -0.01802472656746498, 0.02042993215757941, 0.021890234686777976, 0.011338826486442672, 0.00909110473981422, 0.0014880420867525767, 0.004262797731779397, -0.0062528188129439815, 0.014688934206150448, -0.015533619513765903, -0.022133619062526082, -0.02104554937916252, 0.0029546090404396212, -0.04140389822551808, 0.0025949020167833907, 0.03971452761028717, -0.027516698595190764, -0.0035344353049026967, -0.010243599589543746, 0.014087633274283098, 0.0050430578730288845, -0.03029413889378523, 0.009327330039381927, -0.001035276385976336, 0.0313535722724272, -0.011073967676120922, 0.006943599815163658, -0.0005740102135583893, 0.022935353638349212, -0.025068542273284013, -0.02532624293874788, 0.017194357549565286, -0.021503683688582173, 0.00866160394114861, -0.00848980380794687, -0.0053293915835855386, 0.014058999763529057, -0.029019951856181652, -0.013400431810153622, 0.007645118034670157, 0.04501170754201224, 0.006370931462727835, 0.0019059107836088135, -0.03373014714575514, -0.0055011921824485365, -0.0058698473528383775, -0.015018219114160682, 0.019671146450903565, -0.02130325004462639, 0.0034181121913333134, -0.008919304606612478, -0.012484163191314318, 0.022591753371945734, -0.0015184650173057754, -0.03341517759613815, -0.04730237722646547, -0.011818436161758485, -0.0063924068286239965, 0.0005247965706766788, -0.016893706152309097, 0.008074619298997025, 0.007319413130411381, 0.0037652922286576223, -0.012713230346024144, 0.05111062204956045, 0.014846418049636425, 0.003577385571033761, -0.009255746728158078, 0.0028883943378591836, -0.008869195729962275, 0.007745334856648049, 0.022892404769201923, -0.045154874164459936, 0.0025787957251918988, -0.013872882409289036, 0.0013770875818266046, -0.004509760714295185, -0.004194793027323231, 0.00010099984593512258, 0.0023479388014369736, -0.02363687232351697, 0.013729715786841339, -0.003135357320374972, 0.020759216134267126, -0.041632966311550425, 0.024524508362924746, -0.0008974781393414207, -0.0135507565774592, -0.02781734812980192, -0.022777870726185753, -0.0187405615423485, 0.0001949531892989675, -0.03971452761028717, 0.015734053157721688, -0.03636441895925688, 0.002605639466900842, -0.030637739160188714, -0.014560083873418514, 0.00901952142859037, -0.002460682842577416, -0.0015936277502045086, -0.005562038276385563, -0.015118435936138574, 0.013844248898534995, -0.013121255778793592, 0.0009001625600784408, -0.006528415306213812, -0.0009619033057073879, -0.016779172109292924, 0.025498044003272137, -0.012469845970276039, -0.021059865668878283, -0.008482644731766473, -0.02093101533614635, -0.020573098780027107, 0.02356528901229312, 0.0003377846520562241, 0.047875047441546324, -0.0027935461245247035, -0.016664639928921785, -0.01299956359091954, -0.001151599615961034, 0.009520605538479828, -0.015132752225854338, -0.00011609949430214613, 0.018955311476020045, 0.00021217797012833194, -0.03032277147321676, -0.014094791419140981, -0.18542990411277854, -0.002689749997287242, -0.00017392554215045323, -0.01743774192531339, 0.01540476918103397, 0.022491535618645326, 0.01919869585176815, -0.009334489115562325, -0.018282427232928847, -0.010422557867603368, 0.0049034698573488696, -0.010078956669877372, -0.007237092136239451, 0.0014576190397840635, 0.0045670272701420125, 0.0005529825809617893, -0.033844681188771306, 0.027344897530666507, 0.0197999967836355, 0.013837090753677112, 0.007043816637141549, 0.02118871600161022, -0.003323263977998833, -0.02333622092626078, 0.019642513871472037, 0.01769544259077726, -0.002195824032255666, 0.03728068757809618, 0.02296398808042577, -0.018726243389987702, -0.013493490487273632, 0.007158350214496462, 0.0021349779383186395, 0.013421906244727267, -0.005558458738295364, 0.008045985788242982, -0.00723351306381051, -0.0108950093980613, 0.007011604053958566, 0.018998262207812366, 0.026514528512766814, -0.015018219114160682, 0.022906721058917688, -0.0017475322884309156, -0.01889804445451196, 0.0011319141355252869, 0.029435135433808983, -0.011890019472982334, 0.012541429281499887, -0.01453860943884487, 0.018167893189912677, -0.015576570245558226, 0.03092407240508411, -0.004835465618553962, 4.2810291267294014e-05, 0.02430975656660817, 0.013744032076557102, -0.003679391929226123, 0.004899890784919929, 0.014331016718708688, -0.021517999978297935, -0.03816832361750396, 0.01238394543801391, 0.023923205568412365, -0.017537957815968768, -0.019370495053647376, 0.007867026578860844, 0.01017917442317778, 0.003983621700419367, 0.020773532423982888, -0.0035111708684533232, -0.01581995462130633, 0.008339478109318775, -0.022104984620449523, 0.014474184272478902, -0.02247721932892956, -0.02164685031102987, 0.012541429281499887, -0.015175702026324144, 0.011997395371140623, 0.011968761860386581, 0.05457526101831684, -0.0027684919190302305, 0.03206940910995575, -0.017265940860789135, 0.004982211779091858, 0.018468542724523834, 0.013500648632131513, -0.004588502636038174, -0.014717567716904491, 0.017767025902001108, -0.005819738941849431, -0.01589153793253018, 0.0016526840750964353, 0.0031120926510949695, 0.02176138435404604, -0.007280041936709257, -0.0012795550641704187, 0.015003901893122402, -0.008353794399034538, 0.01626377077836519, -0.032899776265210415, -0.006141864308018009, 0.03089543982565258, 0.022162251641957606, 0.001793166742468371, 0.012885030479225885, 0.03541951776098605, 0.013314531277891494, 0.001308188458509147, -0.000785181540462253, 0.009477655738010023, -0.00935596355013597, 0.005196962178424663, 0.012519954846926242, 0.010766159065329366, -0.014474184272478902, 0.009083946594956338, 0.011202818008852856, -0.01097375085414303, 0.03204077653052423, -0.020386981425787085, -0.007530584457315245, -0.010809108865799172, -0.0062528188129439815, 0.017638175569269176, -0.10497004623034874, 0.007766809756882952, 0.03765292228657622, 0.022033401309225674, -0.0126845968352701, 0.03584901762832914, -0.0011981288381057245, 0.03453188172157827, -0.05122515236728655, 0.03212667426881881, -0.002031181811081178, -0.019413445785439697, 0.013228630745629365, 0.0007453631955371411, 0.004942840585389735, 0.006431777556664861, 0.006206289474383977, -0.018583076767540004, 0.009406072426786174, 0.02070194911275904, -0.001743058331479425, -0.015590886535273988, 0.009685247526823688, -0.007802601878156134, -0.02461040796386436, 0.017237306418712576, -0.023794355235680433, 0.011446202384600961, 0.012591538158150091, 0.011073967676120922, -0.01540476918103397, -0.01915574511997583, 0.01942776207515546, -0.007086766903272613, -0.007566376112927169, -0.02107418382123908, -0.04495443865785912, -0.04939261512960794, -0.0001014472445406545, -0.002655747877889788, -0.0007883133452528907, -0.00012974510083916955, 0.019742729762127414, -0.0167505395298614, -0.003972884483132545, -0.022563118929869175, -0.022104984620449523, 0.00454913144233605, 0.04246333346680508, -0.031181773070547977, -0.011868545038408689, -0.01123860966446478, -0.036249884916240704, -0.016578738465337143, 0.03453188172157827, -0.018325376102076137, -0.003403795435956292, 0.039399558060670185, -0.017265940860789135, 0.004828307008034822, 0.007290779619657337, 0.016106287866201725, -0.003274945336054987, 0.017724075170208787, 0.014295225063096764, -0.016177871177425574, -0.01504685169359221, -0.021818651375554127, -0.005146853767435717, -0.0035469625240652477, -0.010787633499903011, 0.046443377491779285, -0.032498908977298846, 0.008411061420542624, -0.019656830161187803, 0.0025608998973859366, -0.020157913339754745, -0.011474834964032489, 0.008904987385574199, -0.014531451293986988, -0.02310715470287347, -0.022691969262601107, -0.014123424929895025, 0.01864034378904809, 0.0020168650557041566, 0.007544901212692265, 0.005146853767435717, 0.0101648572021395, 0.010358132701237402, -0.03576311616474449, 0.018497177166600393, 0.00677179921630066, 0.016779172109292924, 0.00911258010571038, -0.005483296354642574, 0.023536654570216562, -0.012677437759089704, 0.018511493456316155, 0.012791971802105874, -0.0029098694709247157, -0.012799129946963757, -0.023064203971081148, -0.07255703499134447, 0.0034646415298933185, -0.014309542284135043, -0.010300865679729316, -0.006589261400150839, 0.009756831769370053, -0.00391561746162446, 0.017165723107488727, -0.021432100377358324, 0.004359435481328348, -0.016550105885905615, 0.006607157227956801, -0.04767461193494551, -0.01586290349045362, -0.008425378641580902, 0.023264637615036932, 0.014030366252775013, -0.0009158214094086577, 0.03647895300227305, 0.005372341849716602, 0.013837090753677112, -0.022190886084034165, 0.026199562688439895, 0.01855444418810848, 0.0007516267469107594, 0.025068542273284013, -0.006947178887592599, -0.005855530597461356, 0.0014307752980751202, 0.005912797153308184, 0.020730581692190567, -0.016321037799873272, -0.012856396968471842, -0.017566592258045327, -0.008604336919640524, -0.024853792339612466, 0.01087353403216514, -0.0002688855287387664, 0.020530148048234782, -0.011546419206578853, -0.0015533620212257791, -0.0057696300651992275, 0.00899804606269421, -0.02721604719793457, -0.020830799445490975, 0.010100432035773533, 0.013708240420945178, -0.012899346768941647, -0.009305855604808282, 0.00454555236990711, 0.019585246849963954, 0.01504685169359221, 0.0003612729842592068, -0.01935617876393161, -0.008275052942952808, -0.013450539755481309, -0.006285031396126965, -0.011711061194922712, -0.0034986436492907723, -0.006313664906881008, 0.02469630756480397, 0.007731018101271027, 0.006553469744538914, -0.01533318586981012, 0.004856940518788865, -0.018683294520840412, 0.01516138573660838, -0.0004943735819158228, 0.0037760296787750737, -0.03470368092345749, -0.016550105885905615, -0.025197392606015945, 0.017852925502940722, 0.017566592258045327, 0.016406939263457918, 0.010701733898963398, 0.011818436161758485, 0.004255639121260257, -0.02826116614950581, 0.01822516021142076, -0.01687938986259333, -0.009055313084202295, -0.03453188172157827, -0.014631668115964879, 0.02713014759699496, 0.032269840891266506, -0.006861278820991729, -0.0036382314321401583, -0.0010486982568308077, -0.0021152925742982066, -0.00811756909946683, 0.009942948192287556, 0.015562253024519947, -0.008432536786438785, 0.011095443042017082, 0.012634487958619897, -0.007040237564712609, -0.014760518448696814, -0.016006071975546352, 0.013744032076557102, 0.03178307586506036, -0.010100432035773533, 0.004398806209369213, -0.019656830161187803, -0.0032821034809128683, -0.01007179852501949, -0.028046416215834265, 0.005547721521008541, 0.02336485536833734, 0.025898911291183702, 0.027330581240950745, 0.009570714415130032, -0.010036006869407565, 0.021102816400670608, -0.012784813657247993, -0.014603034605210837, -0.02176138435404604, -0.04813274810701019, -0.020687632823043277, 0.01649283886439753, -0.008840562219208233, -0.0020025485331577643, 0.010401082501707208, 0.005186224495476582, 0.04120346271891726, 0.005182645423047642, 0.004949999195908875, -0.023765722656248905, 0.016721906950429872, 0.005150432839864658, -0.039857694232734865, 0.005057374628405906, -0.026385678180034882, -0.02273491999439343, 0.023980472589920452, -0.006224185302189939, -0.00794576896626509, 0.013092622268039549, -0.022004768729794146, 0.05955747512571499, 0.011646636028556746, -0.005404554432899586, -0.002843654535513649, 0.008983729772978446, -0.014030366252775013, 0.004295010314962381, 0.009692406603004085, 0.001210655940852961, -0.02002906300702281, 0.02588459500146794, -0.00954208090437599, 0.007154771142067522, -0.0197999967836355, 0.02060173135945863, -0.0171370905280572, -0.0022316156878675903, 0.030752273203204884, 0.016278088930725982, 0.018096309878688828, -0.0053293915835855386, 0.03524771483381676, 0.02359392159172465, -0.015390452891318206, 0.005057374628405906, 0.0027541751636532092, 0.0069579165705406796, -0.013013880811957819, -0.0027434377135357574, -0.022076352041017995, 0.005128957939629755, 0.001536360961527052, -0.024510190210563953, -0.0004160791024341092, 0.006804011799483643, -0.018124942458120352, 0.0025859541028804096, 0.00129387181954744, 0.018325376102076137, 0.0322984771959881, -0.010988067143858794, 0.028533183104685444, -0.03885552415031092, -0.0035576999741826995, -0.026858130641815327, -0.018855093722719637, -0.01299956359091954, -0.009255746728158078, -0.016507155154113294]\n"
     ]
    },
    {
     "data": {
      "text/plain": [
       "{'matches': [{'id': '00e2c3ab-6eba-11ee-8bff-42010a400007',\n",
       "              'score': 0.797454298,\n",
       "              'values': []},\n",
       "             {'id': '013b246f-6ec0-11ee-8bff-42010a400007',\n",
       "              'score': 0.79315114,\n",
       "              'values': []},\n",
       "             {'id': '01cc73ec-6ec8-11ee-8bff-42010a400007',\n",
       "              'score': 0.791656315,\n",
       "              'values': []}],\n",
       " 'namespace': '',\n",
       " 'usage': {'read_units': 5}}"
      ]
     },
     "execution_count": 109,
     "metadata": {},
     "output_type": "execute_result"
    }
   ],
   "execution_count": 109
  },
  {
   "metadata": {
    "ExecuteTime": {
     "end_time": "2024-08-07T13:21:18.732210Z",
     "start_time": "2024-08-07T13:21:18.513119Z"
    }
   },
   "cell_type": "code",
   "source": [
    "from langchain.chat_models import ChatOpenAI\n",
    "from langchain.chains.conversation.memory import ConversationBufferWindowMemory\n",
    "from langchain.chains import RetrievalQA\n",
    "\n",
    "# chat completion llm\n",
    "llm = ChatOpenAI(\n",
    "    openai_api_key=openai_api_key,\n",
    "    model_name='gpt-4-turbo',\n",
    "    temperature=0.4\n",
    ")\n",
    "# conversational memory\n",
    "conversational_memory = ConversationBufferWindowMemory(\n",
    "    memory_key='chat_history',\n",
    "    k=5,\n",
    "    return_messages=True\n",
    ")\n",
    "# retrieval qa chain\n",
    "qa = RetrievalQA.from_chain_type(\n",
    "    llm=llm,\n",
    "    chain_type=\"stuff\",\n",
    "    retriever=vectorstore.as_retriever()\n",
    ")\n",
    "\n",
    "qa.run(query)"
   ],
   "id": "b7f203ec32cb1f8",
   "outputs": [
    {
     "ename": "ImportError",
     "evalue": "cannot import name 'asyncio_accepts_context' from 'langchain_core.runnables.utils' (/home/aman/Desktop/Mercor/dev/env/lib/python3.10/site-packages/langchain_core/runnables/utils.py)",
     "output_type": "error",
     "traceback": [
      "\u001B[0;31m---------------------------------------------------------------------------\u001B[0m",
      "\u001B[0;31mImportError\u001B[0m                               Traceback (most recent call last)",
      "Cell \u001B[0;32mIn[85], line 1\u001B[0m\n\u001B[0;32m----> 1\u001B[0m \u001B[38;5;28;01mfrom\u001B[39;00m \u001B[38;5;21;01mlangchain\u001B[39;00m\u001B[38;5;21;01m.\u001B[39;00m\u001B[38;5;21;01mchat_models\u001B[39;00m \u001B[38;5;28;01mimport\u001B[39;00m ChatOpenAI\n\u001B[1;32m      2\u001B[0m \u001B[38;5;28;01mfrom\u001B[39;00m \u001B[38;5;21;01mlangchain\u001B[39;00m\u001B[38;5;21;01m.\u001B[39;00m\u001B[38;5;21;01mchains\u001B[39;00m\u001B[38;5;21;01m.\u001B[39;00m\u001B[38;5;21;01mconversation\u001B[39;00m\u001B[38;5;21;01m.\u001B[39;00m\u001B[38;5;21;01mmemory\u001B[39;00m \u001B[38;5;28;01mimport\u001B[39;00m ConversationBufferWindowMemory\n\u001B[1;32m      3\u001B[0m \u001B[38;5;28;01mfrom\u001B[39;00m \u001B[38;5;21;01mlangchain\u001B[39;00m\u001B[38;5;21;01m.\u001B[39;00m\u001B[38;5;21;01mchains\u001B[39;00m \u001B[38;5;28;01mimport\u001B[39;00m RetrievalQA\n",
      "File \u001B[0;32m~/Desktop/Mercor/dev/env/lib/python3.10/site-packages/langchain/chat_models/__init__.py:25\u001B[0m\n\u001B[1;32m     22\u001B[0m \u001B[38;5;28;01mfrom\u001B[39;00m \u001B[38;5;21;01mlangchain_core\u001B[39;00m\u001B[38;5;21;01m.\u001B[39;00m\u001B[38;5;21;01m_api\u001B[39;00m \u001B[38;5;28;01mimport\u001B[39;00m LangChainDeprecationWarning\n\u001B[1;32m     24\u001B[0m \u001B[38;5;28;01mfrom\u001B[39;00m \u001B[38;5;21;01mlangchain\u001B[39;00m\u001B[38;5;21;01m.\u001B[39;00m\u001B[38;5;21;01m_api\u001B[39;00m\u001B[38;5;21;01m.\u001B[39;00m\u001B[38;5;21;01minteractive_env\u001B[39;00m \u001B[38;5;28;01mimport\u001B[39;00m is_interactive_env\n\u001B[0;32m---> 25\u001B[0m \u001B[38;5;28;01mfrom\u001B[39;00m \u001B[38;5;21;01mlangchain\u001B[39;00m\u001B[38;5;21;01m.\u001B[39;00m\u001B[38;5;21;01mchat_models\u001B[39;00m\u001B[38;5;21;01m.\u001B[39;00m\u001B[38;5;21;01mbase\u001B[39;00m \u001B[38;5;28;01mimport\u001B[39;00m init_chat_model\n\u001B[1;32m     28\u001B[0m \u001B[38;5;28;01mdef\u001B[39;00m \u001B[38;5;21m__getattr__\u001B[39m(name: \u001B[38;5;28mstr\u001B[39m) \u001B[38;5;241m-\u001B[39m\u001B[38;5;241m>\u001B[39m \u001B[38;5;28;01mNone\u001B[39;00m:\n\u001B[1;32m     29\u001B[0m     \u001B[38;5;28;01mfrom\u001B[39;00m \u001B[38;5;21;01mlangchain_community\u001B[39;00m \u001B[38;5;28;01mimport\u001B[39;00m chat_models\n",
      "File \u001B[0;32m~/Desktop/Mercor/dev/env/lib/python3.10/site-packages/langchain/chat_models/base.py:36\u001B[0m\n\u001B[1;32m     34\u001B[0m \u001B[38;5;28;01mfrom\u001B[39;00m \u001B[38;5;21;01mlangchain_core\u001B[39;00m\u001B[38;5;21;01m.\u001B[39;00m\u001B[38;5;21;01mrunnables\u001B[39;00m \u001B[38;5;28;01mimport\u001B[39;00m Runnable, RunnableConfig\n\u001B[1;32m     35\u001B[0m \u001B[38;5;28;01mfrom\u001B[39;00m \u001B[38;5;21;01mlangchain_core\u001B[39;00m\u001B[38;5;21;01m.\u001B[39;00m\u001B[38;5;21;01mrunnables\u001B[39;00m\u001B[38;5;21;01m.\u001B[39;00m\u001B[38;5;21;01mschema\u001B[39;00m \u001B[38;5;28;01mimport\u001B[39;00m StreamEvent\n\u001B[0;32m---> 36\u001B[0m \u001B[38;5;28;01mfrom\u001B[39;00m \u001B[38;5;21;01mlangchain_core\u001B[39;00m\u001B[38;5;21;01m.\u001B[39;00m\u001B[38;5;21;01mtools\u001B[39;00m \u001B[38;5;28;01mimport\u001B[39;00m BaseTool\n\u001B[1;32m     37\u001B[0m \u001B[38;5;28;01mfrom\u001B[39;00m \u001B[38;5;21;01mlangchain_core\u001B[39;00m\u001B[38;5;21;01m.\u001B[39;00m\u001B[38;5;21;01mtracers\u001B[39;00m \u001B[38;5;28;01mimport\u001B[39;00m RunLog, RunLogPatch\n\u001B[1;32m     38\u001B[0m \u001B[38;5;28;01mfrom\u001B[39;00m \u001B[38;5;21;01mtyping_extensions\u001B[39;00m \u001B[38;5;28;01mimport\u001B[39;00m TypeAlias\n",
      "File \u001B[0;32m~/Desktop/Mercor/dev/env/lib/python3.10/site-packages/langchain_core/tools.py:90\u001B[0m\n\u001B[1;32m     79\u001B[0m \u001B[38;5;28;01mfrom\u001B[39;00m \u001B[38;5;21;01mlangchain_core\u001B[39;00m\u001B[38;5;21;01m.\u001B[39;00m\u001B[38;5;21;01mrunnables\u001B[39;00m \u001B[38;5;28;01mimport\u001B[39;00m (\n\u001B[1;32m     80\u001B[0m     Runnable,\n\u001B[1;32m     81\u001B[0m     RunnableConfig,\n\u001B[1;32m     82\u001B[0m     RunnableSerializable,\n\u001B[1;32m     83\u001B[0m     ensure_config,\n\u001B[1;32m     84\u001B[0m )\n\u001B[1;32m     85\u001B[0m \u001B[38;5;28;01mfrom\u001B[39;00m \u001B[38;5;21;01mlangchain_core\u001B[39;00m\u001B[38;5;21;01m.\u001B[39;00m\u001B[38;5;21;01mrunnables\u001B[39;00m\u001B[38;5;21;01m.\u001B[39;00m\u001B[38;5;21;01mconfig\u001B[39;00m \u001B[38;5;28;01mimport\u001B[39;00m (\n\u001B[1;32m     86\u001B[0m     _set_config_context,\n\u001B[1;32m     87\u001B[0m     patch_config,\n\u001B[1;32m     88\u001B[0m     run_in_executor,\n\u001B[1;32m     89\u001B[0m )\n\u001B[0;32m---> 90\u001B[0m \u001B[38;5;28;01mfrom\u001B[39;00m \u001B[38;5;21;01mlangchain_core\u001B[39;00m\u001B[38;5;21;01m.\u001B[39;00m\u001B[38;5;21;01mrunnables\u001B[39;00m\u001B[38;5;21;01m.\u001B[39;00m\u001B[38;5;21;01mutils\u001B[39;00m \u001B[38;5;28;01mimport\u001B[39;00m asyncio_accepts_context\n\u001B[1;32m     91\u001B[0m \u001B[38;5;28;01mfrom\u001B[39;00m \u001B[38;5;21;01mlangchain_core\u001B[39;00m\u001B[38;5;21;01m.\u001B[39;00m\u001B[38;5;21;01mutils\u001B[39;00m\u001B[38;5;21;01m.\u001B[39;00m\u001B[38;5;21;01mfunction_calling\u001B[39;00m \u001B[38;5;28;01mimport\u001B[39;00m (\n\u001B[1;32m     92\u001B[0m     _parse_google_docstring,\n\u001B[1;32m     93\u001B[0m     _py_38_safe_origin,\n\u001B[1;32m     94\u001B[0m )\n\u001B[1;32m     95\u001B[0m \u001B[38;5;28;01mfrom\u001B[39;00m \u001B[38;5;21;01mlangchain_core\u001B[39;00m\u001B[38;5;21;01m.\u001B[39;00m\u001B[38;5;21;01mutils\u001B[39;00m\u001B[38;5;21;01m.\u001B[39;00m\u001B[38;5;21;01mpydantic\u001B[39;00m \u001B[38;5;28;01mimport\u001B[39;00m (\n\u001B[1;32m     96\u001B[0m     TypeBaseModel,\n\u001B[1;32m     97\u001B[0m     _create_subset_model,\n\u001B[0;32m   (...)\u001B[0m\n\u001B[1;32m    100\u001B[0m     is_pydantic_v2_subclass,\n\u001B[1;32m    101\u001B[0m )\n",
      "\u001B[0;31mImportError\u001B[0m: cannot import name 'asyncio_accepts_context' from 'langchain_core.runnables.utils' (/home/aman/Desktop/Mercor/dev/env/lib/python3.10/site-packages/langchain_core/runnables/utils.py)"
     ]
    }
   ],
   "execution_count": 85
  }
 ],
 "metadata": {
  "kernelspec": {
   "display_name": "Python 3",
   "language": "python",
   "name": "python3"
  },
  "language_info": {
   "codemirror_mode": {
    "name": "ipython",
    "version": 3
   },
   "file_extension": ".py",
   "mimetype": "text/x-python",
   "name": "python",
   "nbconvert_exporter": "python",
   "pygments_lexer": "ipython3",
   "version": "3.10.12"
  }
 },
 "nbformat": 4,
 "nbformat_minor": 5
}
